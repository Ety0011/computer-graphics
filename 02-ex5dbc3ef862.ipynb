{
 "cells": [
  {
   "cell_type": "markdown",
   "id": "1d6f9a26",
   "metadata": {
    "papermill": {
     "duration": 0.010757,
     "end_time": "2025-10-07T11:46:31.134361",
     "exception": false,
     "start_time": "2025-10-07T11:46:31.123604",
     "status": "completed"
    },
    "tags": []
   },
   "source": [
    "# Exercise 2\n",
    "## Authors: E. Vercesi; A. Dei Rossi, S. Huber*, L. Scarciglia.\n",
    "\n",
    "In this exercise session you are going to learn the basics of PyTorch and pandas. We will start with PyTorch.\n",
    "\n",
    "[PyTorch](https://pytorch.org/) is a Python library for scientific computing (as much as NumPy), but which can additionally run on GPUs. \n",
    "Hence, this is the computing library of choice for Deep Learning applications. \n",
    "PyTorch is developed by Meta. You might have also heard of its main competitor TensorFlow (Google). Although both have basically the same functionalities, in this course we would like you to stick to PyTorch (assignments made using TensorFlow won't be evaluated).\n",
    "\n",
    "If you haven't done Exercise 1 on NumPy yet, we highly encourage to do it first: NumPy and PyTorch offer a vast overlap of functionalities, so understanding NumPy first is going to boost greatly your understanding of PyTorch.\n",
    "To begin with, make sure you have installed it. If not, please do so (by typing `conda/pip install torch` from your environment, or using the GUI of your IDE). Also make sure that the version installed is 2.8.\n",
    "\n",
    "In addition to that, also install [pandas](https://pandas.pydata.org/docs/getting_started/install.html). We will use it at the end of the notebook."
   ]
  },
  {
   "cell_type": "code",
   "execution_count": 1,
   "id": "149a407b",
   "metadata": {
    "ExecuteTime": {
     "end_time": "2024-09-18T19:31:50.547971Z",
     "start_time": "2024-09-18T19:31:50.545559Z"
    },
    "editable": true,
    "execution": {
     "iopub.execute_input": "2025-10-07T11:46:31.156182Z",
     "iopub.status.busy": "2025-10-07T11:46:31.155915Z",
     "iopub.status.idle": "2025-10-07T11:46:35.212084Z",
     "shell.execute_reply": "2025-10-07T11:46:35.211363Z"
    },
    "papermill": {
     "duration": 4.068257,
     "end_time": "2025-10-07T11:46:35.213300",
     "exception": false,
     "start_time": "2025-10-07T11:46:31.145043",
     "status": "completed"
    },
    "slideshow": {
     "slide_type": ""
    },
    "tags": []
   },
   "outputs": [
    {
     "data": {
      "text/plain": [
       "<torch._C.Generator at 0x7aa0a1e97210>"
      ]
     },
     "execution_count": 1,
     "metadata": {},
     "output_type": "execute_result"
    }
   ],
   "source": [
    "import torch  # If you see errors, use conda or pip to install torch in your virtual environment.\n",
    "import numpy as np\n",
    "\n",
    "torch.manual_seed(42)  # manual seed is to ensure repeatability of random numbers. "
   ]
  },
  {
   "cell_type": "markdown",
   "id": "bb999296",
   "metadata": {
    "papermill": {
     "duration": 0.00826,
     "end_time": "2025-10-07T11:46:35.230029",
     "exception": false,
     "start_time": "2025-10-07T11:46:35.221769",
     "status": "completed"
    },
    "tags": []
   },
   "source": [
    "## Create tensors\n",
    "\n",
    "Tensors are like NumPy arrays, but they can live in GPUs.\n",
    "\n",
    "1. Create a tensor out of a Python list [1, 2, 3].\n",
    "2. Create a tensor out of a NumPy array [[2, 3, 4], [4, 3, 2]] (see method [`.from_numpy()`](https://pytorch.org/docs/stable/generated/torch.from_numpy.html)).\n",
    "3. Convert the tensor of point 2 back to a NumPy array. (see method [`.numpy()`](https://pytorch.org/docs/stable/generated/torch.Tensor.numpy.html))."
   ]
  },
  {
   "cell_type": "code",
   "execution_count": 2,
   "id": "b2fd49e8",
   "metadata": {
    "ExecuteTime": {
     "end_time": "2024-09-18T19:44:01.942448Z",
     "start_time": "2024-09-18T19:44:01.939947Z"
    },
    "execution": {
     "iopub.execute_input": "2025-10-07T11:46:35.247316Z",
     "iopub.status.busy": "2025-10-07T11:46:35.247031Z",
     "iopub.status.idle": "2025-10-07T11:46:35.291826Z",
     "shell.execute_reply": "2025-10-07T11:46:35.290884Z"
    },
    "papermill": {
     "duration": 0.054979,
     "end_time": "2025-10-07T11:46:35.293044",
     "exception": false,
     "start_time": "2025-10-07T11:46:35.238065",
     "status": "completed"
    },
    "tags": []
   },
   "outputs": [
    {
     "name": "stdout",
     "output_type": "stream",
     "text": [
      "tensor([1, 2, 3])\n",
      "tensor([[2, 3, 4],\n",
      "        [4, 3, 2]])\n",
      "[[2 3 4]\n",
      " [4 3 2]]\n"
     ]
    }
   ],
   "source": [
    "## 1: create a tensor out of a Python list\n",
    "list1 = [1,2,3]\n",
    "tensor1 = torch.tensor(list1)\n",
    "print (tensor1)\n",
    "\n",
    "## 2: create a tensor out of a NumPy array\n",
    "arr1 = np.array ([[2,3,4],[4,3,2]])\n",
    "tensor2 = torch.from_numpy(arr1)\n",
    "print (tensor2)\n",
    "\n",
    "## 3: Convert the tensor back to NumPy.\n",
    "t= torch.tensor ([[2,3,4], [4,3,2]])\n",
    "arr2 = t.numpy ()\n",
    "print (arr2)"
   ]
  },
  {
   "cell_type": "markdown",
   "id": "6869459c",
   "metadata": {
    "papermill": {
     "duration": 0.007729,
     "end_time": "2025-10-07T11:46:35.309202",
     "exception": false,
     "start_time": "2025-10-07T11:46:35.301473",
     "status": "completed"
    },
    "tags": []
   },
   "source": [
    "1. Check the `.dtype` attribute of the above created tensors. \n",
    "2. Create a tensor of size 3 with values [1, 2, 3] but forcing the dtype to be float64."
   ]
  },
  {
   "cell_type": "markdown",
   "id": "7321ae2a",
   "metadata": {
    "papermill": {
     "duration": 0.007721,
     "end_time": "2025-10-07T11:46:35.324727",
     "exception": false,
     "start_time": "2025-10-07T11:46:35.317006",
     "status": "completed"
    },
    "tags": []
   },
   "source": []
  },
  {
   "cell_type": "code",
   "execution_count": 3,
   "id": "adadbcca",
   "metadata": {
    "ExecuteTime": {
     "end_time": "2024-09-18T19:45:12.850223Z",
     "start_time": "2024-09-18T19:45:12.847542Z"
    },
    "execution": {
     "iopub.execute_input": "2025-10-07T11:46:35.341266Z",
     "iopub.status.busy": "2025-10-07T11:46:35.341041Z",
     "iopub.status.idle": "2025-10-07T11:46:35.345397Z",
     "shell.execute_reply": "2025-10-07T11:46:35.344610Z"
    },
    "papermill": {
     "duration": 0.013717,
     "end_time": "2025-10-07T11:46:35.346421",
     "exception": false,
     "start_time": "2025-10-07T11:46:35.332704",
     "status": "completed"
    },
    "tags": []
   },
   "outputs": [
    {
     "name": "stdout",
     "output_type": "stream",
     "text": [
      "1:  torch.int64\n",
      "2:  torch.int64\n",
      "3:  int64\n",
      "4:  torch.float64\n"
     ]
    }
   ],
   "source": [
    "## 1: check the dtype attribute\n",
    "print(\"1: \", tensor1.dtype)\n",
    "print(\"2: \", tensor2.dtype)\n",
    "print(\"3: \", arr2.dtype)\n",
    "\n",
    "## 2: create [1, 2, 3] with dtype float64\n",
    "t2 = torch.tensor ([1,2,3] , dtype=torch.float64)\n",
    "print(\"4: \", t2.dtype)"
   ]
  },
  {
   "cell_type": "markdown",
   "id": "b993a289",
   "metadata": {
    "papermill": {
     "duration": 0.008079,
     "end_time": "2025-10-07T11:46:35.362401",
     "exception": false,
     "start_time": "2025-10-07T11:46:35.354322",
     "status": "completed"
    },
    "tags": []
   },
   "source": [
    "PyTorch also offers some more advanced functions that can be used to create well-known matrices:\n",
    "\n",
    "1. Create an identity matrix of size (5, 5) (see [`torch.eye()`](https://pytorch.org/docs/stable/generated/torch.eye.html)).\n",
    "2. Create a matrix of all zeros of size (3, 4) (see [`torch.zeros()`](https://pytorch.org/docs/stable/generated/torch.zeros.html).\n",
    "3. Create a matrix of all ones of size (2, 3) (see [`torch.ones()`](https://pytorch.org/docs/stable/generated/torch.ones.html).\n",
    "4. Given a tensor of size (3, 2) of your choice, create a matrix of the same size (3, 2) filled with ones (equivalently zeros) (see [`torch.zeros_like()`](https://pytorch.org/docs/stable/generated/torch.zeros_like.html).\n",
    "5. Create a matrix of size (3, 4) filled with numbers from 0 to 11 inclusive (same as in NumPy). Try both [`torch.arange()`](https://pytorch.org/docs/stable/generated/torch.arange.html) and [`torch.linspace()`](https://pytorch.org/docs/stable/generated/torch.linspace.html)."
   ]
  },
  {
   "cell_type": "code",
   "execution_count": 4,
   "id": "eacbeed9",
   "metadata": {
    "ExecuteTime": {
     "end_time": "2024-09-18T19:56:37.567665Z",
     "start_time": "2024-09-18T19:56:37.564862Z"
    },
    "execution": {
     "iopub.execute_input": "2025-10-07T11:46:35.379252Z",
     "iopub.status.busy": "2025-10-07T11:46:35.379050Z",
     "iopub.status.idle": "2025-10-07T11:46:35.432395Z",
     "shell.execute_reply": "2025-10-07T11:46:35.431663Z"
    },
    "papermill": {
     "duration": 0.0632,
     "end_time": "2025-10-07T11:46:35.433540",
     "exception": false,
     "start_time": "2025-10-07T11:46:35.370340",
     "status": "completed"
    },
    "tags": []
   },
   "outputs": [
    {
     "name": "stdout",
     "output_type": "stream",
     "text": [
      "m1:\n",
      " tensor([[1., 0., 0., 0., 0.],\n",
      "        [0., 1., 0., 0., 0.],\n",
      "        [0., 0., 1., 0., 0.],\n",
      "        [0., 0., 0., 1., 0.],\n",
      "        [0., 0., 0., 0., 1.]])\n",
      "m2: \n",
      " tensor([[0., 0., 0., 0.],\n",
      "        [0., 0., 0., 0.],\n",
      "        [0., 0., 0., 0.]])\n",
      "m3: \n",
      " tensor([[1., 1., 1.],\n",
      "        [1., 1., 1.]])\n"
     ]
    }
   ],
   "source": [
    "## 1: torch.eye()\n",
    "m1= torch.eye(5)\n",
    "print(\"m1:\\n\", m1)\n",
    "\n",
    "## 2: torch.zeros()\n",
    "m2 = torch.zeros(3,4)\n",
    "print(\"m2: \\n\", m2)\n",
    "\n",
    "## 3: torch.ones()\n",
    "m3 = torch.ones(2,3)\n",
    "print(\"m3: \\n\", m3)\n",
    "\n",
    "## 4: torch.zeros_like()\n",
    "\n",
    "## 5:\n",
    "## torch.arange()\n",
    "\n",
    "## torch.linspace()"
   ]
  },
  {
   "cell_type": "markdown",
   "id": "1f506681",
   "metadata": {
    "papermill": {
     "duration": 0.007703,
     "end_time": "2025-10-07T11:46:35.449332",
     "exception": false,
     "start_time": "2025-10-07T11:46:35.441629",
     "status": "completed"
    },
    "tags": []
   },
   "source": [
    "### Random tensors\n",
    "\n",
    "As in NumPy, you have a big choice of random distributions to sample you arrays from.\n",
    "Create the same random arrays you did in NumPy in Exercise 1:\n",
    "1) Create a random tensor of size 4 of uniform floating point numbers in the interval [0, 1). (see [`torch.rand`](https://pytorch.org/docs/stable/generated/torch.rand.html)).\n",
    "2) Create a random tensor of size (3, 2) of uniform floating point numbers in the interval [0, 5). (hint: generate numbers in the interval [0, 1) and scale them up by 5).\n",
    "3) Create a random tensor of size (2, 1, 2) of integers in the interval [10, 20]. (see [`torch.randint`](https://pytorch.org/docs/stable/generated/torch.randint.html), caraful with border conditions).\n",
    "4) Create a random tensor of size 10 over the normal distribution, mean 3 and std dev 2. (see [`torch.normal`](https://pytorch.org/docs/stable/generated/torch.normal.html))."
   ]
  },
  {
   "cell_type": "code",
   "execution_count": 5,
   "id": "81a5d1f1",
   "metadata": {
    "ExecuteTime": {
     "end_time": "2024-09-18T20:29:56.713417Z",
     "start_time": "2024-09-18T20:29:56.707816Z"
    },
    "execution": {
     "iopub.execute_input": "2025-10-07T11:46:35.465982Z",
     "iopub.status.busy": "2025-10-07T11:46:35.465770Z",
     "iopub.status.idle": "2025-10-07T11:46:35.468888Z",
     "shell.execute_reply": "2025-10-07T11:46:35.468163Z"
    },
    "papermill": {
     "duration": 0.012767,
     "end_time": "2025-10-07T11:46:35.469917",
     "exception": false,
     "start_time": "2025-10-07T11:46:35.457150",
     "status": "completed"
    },
    "tags": []
   },
   "outputs": [],
   "source": [
    "## 1: torch.rand()\n",
    "\n",
    "## 2: torch.rand() scaled up to [0, 5)\n",
    "\n",
    "## 3: torch.randint()\n",
    "\n",
    "## 4: torch.normal()"
   ]
  },
  {
   "cell_type": "markdown",
   "id": "3e6211e5",
   "metadata": {
    "papermill": {
     "duration": 0.007834,
     "end_time": "2025-10-07T11:46:35.485934",
     "exception": false,
     "start_time": "2025-10-07T11:46:35.478100",
     "status": "completed"
    },
    "tags": []
   },
   "source": [
    "## Working with tensors' dimensions\n",
    "\n",
    "In this section we will learn how to manipulate tensor's dimensions. Notice that they are extremely similar to NumPy methods: hence, if you have done exercise 1, this section should be quite straightforward.\n",
    "\n",
    "### Access elements and slicing \n",
    "\n",
    "Create an identity matrix of size (4, 4) and access \n",
    "1. The element in position [0, 0].\n",
    "2. The last element.\n",
    "3. Element in position [2, 3].\n",
    "Check that the returned elements are what you expect."
   ]
  },
  {
   "cell_type": "code",
   "execution_count": 6,
   "id": "2e23ca8d",
   "metadata": {
    "ExecuteTime": {
     "end_time": "2024-09-19T06:54:09.454500Z",
     "start_time": "2024-09-19T06:54:09.451717Z"
    },
    "execution": {
     "iopub.execute_input": "2025-10-07T11:46:35.504157Z",
     "iopub.status.busy": "2025-10-07T11:46:35.503964Z",
     "iopub.status.idle": "2025-10-07T11:46:35.506627Z",
     "shell.execute_reply": "2025-10-07T11:46:35.506116Z"
    },
    "papermill": {
     "duration": 0.012277,
     "end_time": "2025-10-07T11:46:35.507657",
     "exception": false,
     "start_time": "2025-10-07T11:46:35.495380",
     "status": "completed"
    },
    "tags": []
   },
   "outputs": [],
   "source": [
    "# Create the identity matrix\n",
    "\n",
    "## 1: access element in [0, 0]\n",
    "\n",
    "## 2: access element in [3, 3]\n",
    "\n",
    "## 3: access element in [2, 3]\n"
   ]
  },
  {
   "cell_type": "markdown",
   "id": "222e6a5c",
   "metadata": {
    "papermill": {
     "duration": 0.007774,
     "end_time": "2025-10-07T11:46:35.523404",
     "exception": false,
     "start_time": "2025-10-07T11:46:35.515630",
     "status": "completed"
    },
    "tags": []
   },
   "source": [
    "### Slicing\n",
    "\n",
    "1. Create a random tensor of size (3, 4) of integers in the interval [5, 10].\n",
    "2. Print the second row.\n",
    "3. Print the third column.\n",
    "4. Print the sub-matrix spanning from the second to the third row, from the second to the third column."
   ]
  },
  {
   "cell_type": "code",
   "execution_count": 7,
   "id": "d36890a2",
   "metadata": {
    "execution": {
     "iopub.execute_input": "2025-10-07T11:46:35.540186Z",
     "iopub.status.busy": "2025-10-07T11:46:35.539997Z",
     "iopub.status.idle": "2025-10-07T11:46:35.543086Z",
     "shell.execute_reply": "2025-10-07T11:46:35.542392Z"
    },
    "papermill": {
     "duration": 0.012759,
     "end_time": "2025-10-07T11:46:35.544205",
     "exception": false,
     "start_time": "2025-10-07T11:46:35.531446",
     "status": "completed"
    },
    "tags": []
   },
   "outputs": [],
   "source": [
    "## 1: create a random tensor of size [3, 4].\n",
    "\n",
    "## 2: print the second row.\n",
    "\n",
    "## 3: print the third column.\n",
    "\n",
    "## 4: sub-matrix"
   ]
  },
  {
   "cell_type": "markdown",
   "id": "3697a61d",
   "metadata": {
    "papermill": {
     "duration": 0.007883,
     "end_time": "2025-10-07T11:46:35.560185",
     "exception": false,
     "start_time": "2025-10-07T11:46:35.552302",
     "status": "completed"
    },
    "tags": []
   },
   "source": [
    "### Access tensors' dimensions\n",
    "\n",
    "1. Create a tensor $v$ of size (3, 4, 2, 4, 1) of random floats in [0, 1).\n",
    "2. Print its shape. You can use both `.shape` and [`.size()`](https://docs.pytorch.org/docs/stable/generated/torch.Tensor.size.html), try them both.\n",
    "3. Print its third dimension's size (2 in our example). Check [`.size()`](https://docs.pytorch.org/docs/stable/generated/torch.Tensor.size.html) function.\n",
    "4. Print the number of dimensions of our vector (5 in our example). Check [`.dim()`](https://docs.pytorch.org/docs/stable/generated/torch.Tensor.dim.html#torch.Tensor.dim) or [`.ndim`](https://docs.pytorch.org/docs/stable/generated/torch.Tensor.dim.html#torch.Tensor.ndim)."
   ]
  },
  {
   "cell_type": "code",
   "execution_count": 8,
   "id": "5c6e2d96",
   "metadata": {
    "execution": {
     "iopub.execute_input": "2025-10-07T11:46:35.577912Z",
     "iopub.status.busy": "2025-10-07T11:46:35.577252Z",
     "iopub.status.idle": "2025-10-07T11:46:35.580237Z",
     "shell.execute_reply": "2025-10-07T11:46:35.579746Z"
    },
    "papermill": {
     "duration": 0.013009,
     "end_time": "2025-10-07T11:46:35.581217",
     "exception": false,
     "start_time": "2025-10-07T11:46:35.568208",
     "status": "completed"
    },
    "tags": []
   },
   "outputs": [],
   "source": [
    "## 1: create a random tensor v of size (3, 4, 2, 4, 1).\n",
    "\n",
    "## 2: print v's shape using .shape and .size().\n",
    "\n",
    "## 3: print the size of the third dimension of v.\n",
    "\n",
    "## 4: print the number of dimensions of v."
   ]
  },
  {
   "cell_type": "markdown",
   "id": "ccc6fcc0",
   "metadata": {
    "papermill": {
     "duration": 0.008009,
     "end_time": "2025-10-07T11:46:35.597848",
     "exception": false,
     "start_time": "2025-10-07T11:46:35.589839",
     "status": "completed"
    },
    "tags": []
   },
   "source": [
    "## Permute dimensions\n",
    "\n",
    "You can invert the order of the dimensions of a tensor. Create a random tensor of integers in the interval [0, 10) of size (2, 3, 4) and permute its dimensions so that the final size is (4, 2, 3). See [`torch.permute`](https://pytorch.org/docs/stable/generated/torch.permute.html)."
   ]
  },
  {
   "cell_type": "code",
   "execution_count": 9,
   "id": "09c8f75c",
   "metadata": {
    "ExecuteTime": {
     "end_time": "2024-09-19T07:01:03.982170Z",
     "start_time": "2024-09-19T07:01:03.979816Z"
    },
    "execution": {
     "iopub.execute_input": "2025-10-07T11:46:35.615250Z",
     "iopub.status.busy": "2025-10-07T11:46:35.614704Z",
     "iopub.status.idle": "2025-10-07T11:46:35.617641Z",
     "shell.execute_reply": "2025-10-07T11:46:35.617095Z"
    },
    "papermill": {
     "duration": 0.012756,
     "end_time": "2025-10-07T11:46:35.618708",
     "exception": false,
     "start_time": "2025-10-07T11:46:35.605952",
     "status": "completed"
    },
    "tags": []
   },
   "outputs": [],
   "source": [
    "## 1: Create a random tensor. Check its shape (2, 3, 4)\n",
    "\n",
    "## 2: Permute its dimensions. Check its shape (4, 2, 3)\n"
   ]
  },
  {
   "cell_type": "markdown",
   "id": "39d1ab80",
   "metadata": {
    "papermill": {
     "duration": 0.008086,
     "end_time": "2025-10-07T11:46:35.634895",
     "exception": false,
     "start_time": "2025-10-07T11:46:35.626809",
     "status": "completed"
    },
    "tags": []
   },
   "source": [
    "## Squeeze/unsqueeze\n",
    "\n",
    "If you want increase the number of dimensions of your vector (similar to `np.newaxis`, this might turn useful in the context of broadcasting), you can use [`torch.unsqueeze`](https://pytorch.org/docs/stable/generated/torch.unsqueeze.html). If you want to reduce the number of dimensions of your vector by dropping dimensions of size 1 you can use [`torch.squeeze`](https://pytorch.org/docs/stable/generated/torch.squeeze.html) instead.\n",
    "\n",
    "1. Create a random tensor uniform in [0, 1) of size (2, 2). Insert a new dimension so that the final shape is (2, 1, 2).\n",
    "2. Add a dimension to the tensor of point 1, so that the final shape is (2, 1, 2, 1). Try to use negative indices as the argument of `torch.unsqueeze()`.\n",
    "3. Turn the tensor back to its original shape (2, 2) by using `torch.squeeze()`."
   ]
  },
  {
   "cell_type": "code",
   "execution_count": 10,
   "id": "94eea89e",
   "metadata": {
    "ExecuteTime": {
     "end_time": "2024-09-19T07:15:03.127711Z",
     "start_time": "2024-09-19T07:15:03.124690Z"
    },
    "execution": {
     "iopub.execute_input": "2025-10-07T11:46:35.652247Z",
     "iopub.status.busy": "2025-10-07T11:46:35.651815Z",
     "iopub.status.idle": "2025-10-07T11:46:35.655131Z",
     "shell.execute_reply": "2025-10-07T11:46:35.654466Z"
    },
    "papermill": {
     "duration": 0.013132,
     "end_time": "2025-10-07T11:46:35.656191",
     "exception": false,
     "start_time": "2025-10-07T11:46:35.643059",
     "status": "completed"
    },
    "tags": []
   },
   "outputs": [],
   "source": [
    "## 1: Create a tensor of size (2, 2). Unsqueeze it so that its final shape is (2, 1, 2)\n",
    "\n",
    "## 2: Add an additional dimension to the tensor so that its shape is (2, 1, 2, 1). Use negative indices\n",
    "\n",
    "## 3: Turn the tensor back to shape (2, 2)"
   ]
  },
  {
   "cell_type": "markdown",
   "id": "f6b33634",
   "metadata": {
    "papermill": {
     "duration": 0.007847,
     "end_time": "2025-10-07T11:46:35.672130",
     "exception": false,
     "start_time": "2025-10-07T11:46:35.664283",
     "status": "completed"
    },
    "tags": []
   },
   "source": [
    "## Concatenate and stack\n",
    "\n",
    "If you have two tensors of compatible sizes, you can merge them into a unique tensor along one of their axes.\n",
    "In order to get some intuition, think about having 2 2-dimensional tensors of size (3, 4). You can merge them along the first axis and get the final shape be (6, 4), or you can merge them along the second axis and get the final shape to be (3, 8), or you can go in 3D stacking one over the other (along the z-axis) and get a shape of (2, 3, 4). \n",
    "\n",
    "This is precisely what [`torch.concat`](https://pytorch.org/docs/stable/generated/torch.cat.html#torch.cat) (also called `.cat`) and [`torch.stack`](https://pytorch.org/docs/stable/generated/torch.stack) do. \n",
    "You should already be familiar with NumPy `axis` attribute. In PyTorch it is called `dim`. If you try using `axis` instead of `dim`, PyTorch allows you to do so. Though it is not recommended, since it is not written in the official documentation.\n",
    "\n",
    "1. Concat $v$ and $w$ along the first dimension. Check that the final shape is (6, 4).\n",
    "2. Concat $v$ and $w$ along the second dimension. Check that the final shape is (3, 8).\n",
    "3. Concat $v$ and $w$ along a new dimension. Check that the final shape is (2, 3, 4)."
   ]
  },
  {
   "cell_type": "code",
   "execution_count": 11,
   "id": "30c8ac3d",
   "metadata": {
    "ExecuteTime": {
     "end_time": "2024-09-19T08:16:40.985443Z",
     "start_time": "2024-09-19T08:16:40.982553Z"
    },
    "execution": {
     "iopub.execute_input": "2025-10-07T11:46:35.689092Z",
     "iopub.status.busy": "2025-10-07T11:46:35.688524Z",
     "iopub.status.idle": "2025-10-07T11:46:35.694444Z",
     "shell.execute_reply": "2025-10-07T11:46:35.693810Z"
    },
    "papermill": {
     "duration": 0.015406,
     "end_time": "2025-10-07T11:46:35.695443",
     "exception": false,
     "start_time": "2025-10-07T11:46:35.680037",
     "status": "completed"
    },
    "tags": []
   },
   "outputs": [],
   "source": [
    "v = torch.randint(0, 10, (3,4))\n",
    "w = torch.randint(0, 10, (3,4))\n",
    "\n",
    "## 1: concat along first dimension.\n",
    "\n",
    "## 2: concat along second dimension.\n",
    "\n",
    "## 3: concat along new dimension.\n"
   ]
  },
  {
   "cell_type": "markdown",
   "id": "79685ce4",
   "metadata": {
    "editable": true,
    "papermill": {
     "duration": 0.008243,
     "end_time": "2025-10-07T11:46:35.711688",
     "exception": false,
     "start_time": "2025-10-07T11:46:35.703445",
     "status": "completed"
    },
    "slideshow": {
     "slide_type": ""
    },
    "tags": []
   },
   "source": [
    "### Reshape and View\n",
    "\n",
    "PyTorch lets you reshape your tensors, by keeping the same data, but re-arranging its dimensions.\n",
    "\n",
    "Create a random vector of size (2, 3, 4), and make a new vector of size (6, 4) using [``torch.reshape``](https://docs.pytorch.org/docs/stable/generated/torch.Tensor.reshape.html) and [``torch.view``](https://www.geeksforgeeks.org/python/how-does-the-view-method-work-in-python-pytorch/).\n",
    "\n",
    "- `torch.reshape` works on all vectors, but it might be less efficient when working on contiguous data.\n",
    "- `torch.view` only works on contiguous data (see [``torch.is_contiguous``](https://docs.pytorch.org/docs/stable/generated/torch.Tensor.is_contiguous.html)), but it is more efficient.\n",
    "\n",
    "In general, ``torch.reshape`` is the safest option to use."
   ]
  },
  {
   "cell_type": "code",
   "execution_count": 12,
   "id": "37d0fa9d",
   "metadata": {
    "execution": {
     "iopub.execute_input": "2025-10-07T11:46:35.728841Z",
     "iopub.status.busy": "2025-10-07T11:46:35.728597Z",
     "iopub.status.idle": "2025-10-07T11:46:35.732383Z",
     "shell.execute_reply": "2025-10-07T11:46:35.731745Z"
    },
    "papermill": {
     "duration": 0.013487,
     "end_time": "2025-10-07T11:46:35.733387",
     "exception": false,
     "start_time": "2025-10-07T11:46:35.719900",
     "status": "completed"
    },
    "tags": []
   },
   "outputs": [],
   "source": [
    "## 1: create a random tensor of size (2, 3, 4)\n",
    "\n",
    "## 2: reshape it so that its size is (6, 4) using torch.reshape\n",
    "# Is v altered by reshape?\n",
    "\n",
    "## 3: reshape v so that its size is (6, 4) using torch.view\n",
    "# Is v altered by view?\n",
    "\n",
    "## 4: as a final step, try to make a tensor not contiguous: e.g., permuting its dimensions\n",
    "v = torch.rand(2, 3, 4)\n",
    "# Permute v's dimensions by using torch.permute, so that the final shape is (3, 2, 4). Do it inplace.\n",
    "\n",
    "# Make sure that v is not contiguous anymore.\n",
    "\n",
    "# print(v.view(6, 4)) would yield an error."
   ]
  },
  {
   "cell_type": "markdown",
   "id": "31c30005",
   "metadata": {
    "papermill": {
     "duration": 0.008006,
     "end_time": "2025-10-07T11:46:35.749585",
     "exception": false,
     "start_time": "2025-10-07T11:46:35.741579",
     "status": "completed"
    },
    "tags": []
   },
   "source": [
    "## Broadcasting\n",
    "\n",
    "Same as in NumPy, also PyTorch tensors allow [broadcasting](https://pytorch.org/docs/stable/notes/broadcasting.html).\n",
    "When performing element-wise operations (like sums) on two tensors of mismatching sizes, the smaller tensor can adapt to the size of the larger tensor in case these simple rules apply:\n",
    "\n",
    "- Each tensor has at least one dimension.\n",
    "- When iterating over the dimension sizes, starting at the trailing (right-most) dimension, the dimension sizes must be\n",
    "    -  equal\n",
    "    -  one of them is 1\n",
    "    -  one of them does not exist.\n",
    "\n",
    "Let us see an example:\n",
    "\n",
    "Assume you have $v = [[1, 2, 3], [4, 5, 6]]$ shape (2, 3) and $w=[3, 2, 1]$ shape (3). If we want to perform $v + w$ (element by element sum), it is clear that the dimensions don't match, but with the help of broadcasting we can still do it: $w$ is simply enlarged to reach size (2, 3) by copying itself twice on the first axis. Then, it is possible to perform element by element sum $v+w$.\n",
    "\n",
    "Let's put broadcasting in practice:\n",
    "\n",
    "1. Perform the above described example $v+w$ using tensors, check that the result size is (2, 3) and that numbers add up.\n",
    "2. $r = [[1, 2], [3, 4], [5, 6]]$ and $l=[1, 2, 3]$. Compute $r + l$. It should raise errors. Why?\n",
    "3. Adjust the size of $l$ in example 2 so that the sum works. What size should $l$ have in order for broadcasting to work on $r + l$?\n",
    "4. Create random integers tensors $s$ of size (2, 1, 3, 1) and $t$ of size (1, 3, 1, 3). Does broadcasting work here in order to compute $s+t$? In case it does, predict the final shape of the result. \n",
    " \n",
    " "
   ]
  },
  {
   "cell_type": "code",
   "execution_count": 13,
   "id": "ff38ff0d",
   "metadata": {
    "ExecuteTime": {
     "end_time": "2024-09-19T08:58:04.389094Z",
     "start_time": "2024-09-19T08:58:04.387183Z"
    },
    "execution": {
     "iopub.execute_input": "2025-10-07T11:46:35.766948Z",
     "iopub.status.busy": "2025-10-07T11:46:35.766388Z",
     "iopub.status.idle": "2025-10-07T11:46:35.769475Z",
     "shell.execute_reply": "2025-10-07T11:46:35.768823Z"
    },
    "papermill": {
     "duration": 0.012728,
     "end_time": "2025-10-07T11:46:35.770466",
     "exception": false,
     "start_time": "2025-10-07T11:46:35.757738",
     "status": "completed"
    },
    "tags": []
   },
   "outputs": [],
   "source": [
    "## 1: compute v + w\n",
    "\n",
    "## 2: compute r + l. It doesn't work, why?\n",
    "\n",
    "## 3: adjust the size of l, and compute r + l\n",
    "\n",
    "## 4: compute s + t\n"
   ]
  },
  {
   "cell_type": "markdown",
   "id": "0ca48c5b",
   "metadata": {
    "papermill": {
     "duration": 0.008052,
     "end_time": "2025-10-07T11:46:35.786740",
     "exception": false,
     "start_time": "2025-10-07T11:46:35.778688",
     "status": "completed"
    },
    "tags": []
   },
   "source": [
    "## PyTorch functions\n",
    "\n",
    "In this section we are going to learn the basic functions of PyTorch.\n",
    "\n",
    "### Mean, min, max, sum ...\n",
    "\n",
    "These functions are quite self-explanatory, and they work the same way as in NumPy. The only detail we ought to pay attention to is the axis we want to perform the function along (in NumPy it was called `axis`, in PyTorch `dim`).\n",
    "\n",
    "Create a random tensor $v$ of ints of size (3, 2, 4) and print it.\n",
    "\n",
    "In order to be sure you have understood what is going on, try to predict the result and then check that your prediction is wrong/correct.\n",
    "\n",
    "1. Compute the min value in the entire tensor.\n",
    "2. Compute the max value along axis 0.\n",
    "3. Compute the min along axis 1.\n",
    "4. Multi-dimensional axes: take the sum over axes (0, 1). \n"
   ]
  },
  {
   "cell_type": "code",
   "execution_count": 14,
   "id": "0ad83388",
   "metadata": {
    "execution": {
     "iopub.execute_input": "2025-10-07T11:46:35.803881Z",
     "iopub.status.busy": "2025-10-07T11:46:35.803682Z",
     "iopub.status.idle": "2025-10-07T11:46:35.806673Z",
     "shell.execute_reply": "2025-10-07T11:46:35.806005Z"
    },
    "papermill": {
     "duration": 0.012808,
     "end_time": "2025-10-07T11:46:35.807767",
     "exception": false,
     "start_time": "2025-10-07T11:46:35.794959",
     "status": "completed"
    },
    "tags": []
   },
   "outputs": [],
   "source": [
    "# Create v of shape (3, 2, 4)\n"
   ]
  },
  {
   "cell_type": "code",
   "execution_count": 15,
   "id": "59747b25",
   "metadata": {
    "ExecuteTime": {
     "end_time": "2024-09-19T09:11:40.284320Z",
     "start_time": "2024-09-19T09:11:40.281917Z"
    },
    "execution": {
     "iopub.execute_input": "2025-10-07T11:46:35.825025Z",
     "iopub.status.busy": "2025-10-07T11:46:35.824840Z",
     "iopub.status.idle": "2025-10-07T11:46:35.827743Z",
     "shell.execute_reply": "2025-10-07T11:46:35.827049Z"
    },
    "papermill": {
     "duration": 0.012746,
     "end_time": "2025-10-07T11:46:35.828806",
     "exception": false,
     "start_time": "2025-10-07T11:46:35.816060",
     "status": "completed"
    },
    "tags": []
   },
   "outputs": [],
   "source": [
    "## 1: Compute the min value of v.\n",
    "\n",
    "## 2: Compute the max along axis 0.\n",
    "\n",
    "## 3: Compute the min along axis 1.\n",
    "\n",
    "## 4: Compute the sum over axes (0, 1)"
   ]
  },
  {
   "cell_type": "markdown",
   "id": "8f26a447",
   "metadata": {
    "papermill": {
     "duration": 0.008057,
     "end_time": "2025-10-07T11:46:35.845044",
     "exception": false,
     "start_time": "2025-10-07T11:46:35.836987",
     "status": "completed"
    },
    "tags": []
   },
   "source": [
    "### [`torch.dot`](https://docs.pytorch.org/docs/stable/generated/torch.dot.html#torch.dot), [`torch.matmul`](https://docs.pytorch.org/docs/stable/generated/torch.matmul), *\n",
    "\n",
    "Unlike NumPy, Torch has a stricter policy on these operands:\n",
    "\n",
    "- `*`: is the Hadamard product. I.e., element-wise product.\n",
    "- [`torch.dot`](https://docs.pytorch.org/docs/stable/generated/torch.dot.html#torch.dot): only used to compute the dot product of two 1-dimensional tensors. Remember how confusing the dot product between multi-dimension NumPy vectors is (see Exercise 1)? PyTorch avoids this issue by simply forbidding the dimension of the input tensors to be greater than 1.\n",
    "- [`torch.matmul`](https://docs.pytorch.org/docs/stable/generated/torch.matmul): or its alias `@` computes the matrix product. Can be used for larger than 2-dimensional tensors (it applies broadcasting, as much as in NumPy). Notice that the complexity of multiplying two $n\\times n$ matrices is $O(n^3)$. We will take advantage of its relatively high time-complexity in order to show how much faster are GPUs with respect to CPUs later on in the notebook.\n",
    "\n",
    "1. Create two random integer tensors $A$ and $B$ of compatible sizes and perform their Hadamard product (element by element product). Try these sizes (predict whether they work or not):\n",
    "    - $A$ size (3, 4), $B$ size (3, 4).\n",
    "    - $A$ size (3, 4), $B$ size (4, 4).\n",
    "    - $A$ size (3, 4), $B$ size (1, 4).\n",
    "2. Create two random 1-dimensional tensors $v, w$ and compute their dot product. If you can use multiple ways to compute it, check that indeed they return the same value.\n",
    "3. Create $C$ of size (3, 4) and $D$ of size (4, 3). Compute the matrix product. Are the sizes compatible?\n",
    "4. Create $E$ of size (3, 3) and $F$ of size (4, 3). Compute the matrix product. Are the sizes compatible? If not, use the transpose operator [`torch.t()`](https://docs.pytorch.org/docs/stable/generated/torch.t.html#torch.t) to adjust the dimensions of one of the two matrices and compute the matrix product.\n",
    "\n",
    "\n"
   ]
  },
  {
   "cell_type": "code",
   "execution_count": 16,
   "id": "4c77d7b3",
   "metadata": {
    "execution": {
     "iopub.execute_input": "2025-10-07T11:46:35.862598Z",
     "iopub.status.busy": "2025-10-07T11:46:35.862392Z",
     "iopub.status.idle": "2025-10-07T11:46:35.865169Z",
     "shell.execute_reply": "2025-10-07T11:46:35.864681Z"
    },
    "papermill": {
     "duration": 0.012916,
     "end_time": "2025-10-07T11:46:35.866165",
     "exception": false,
     "start_time": "2025-10-07T11:46:35.853249",
     "status": "completed"
    },
    "tags": []
   },
   "outputs": [],
   "source": [
    "## 1: Create A, B and perform hadamard product\n",
    "# A (3,4), B (3,4)\n",
    "\n",
    "# A (3,4), B (4,4)\n",
    "\n",
    "# A (3,4), B (1,4)\n",
    "\n",
    "## 2: Create 1-dimensional tensors v, w and compute their dot product.\n",
    "\n",
    "## 3: Compute matrix product of C and D.\n",
    "\n",
    "## 4: adjust dimensions using .T, and compute the matrix product E @ F"
   ]
  },
  {
   "cell_type": "markdown",
   "id": "497d00d7",
   "metadata": {
    "papermill": {
     "duration": 0.00803,
     "end_time": "2025-10-07T11:46:35.882471",
     "exception": false,
     "start_time": "2025-10-07T11:46:35.874441",
     "status": "completed"
    },
    "tags": []
   },
   "source": [
    "## Gradients\n",
    "\n",
    "One of the useful features of PyTorch (that NumPy doesn't have) is that it is possible to compute automatically the gradient of functions. \n",
    "As you will see, the gradient of a function is one of the key ingredients of the backpropagation algorithm, used to train neural nets.\n",
    "This is also one of the reason why PyTorch is so ubiquitous to neural nets applications.\n",
    "\n",
    "Assume we have tensor $x = [2], y = [2]$. We have $z = 2x^2 + 3y = [14]$.\n",
    "\n",
    "We know that $\\frac{\\delta z}{\\delta x} = 4x$, $\\frac{\\delta z}{\\delta y} = 3$. Since we are evaluating the point $x=2, y=2$, we get that the gradient is (8, 3). The gradients are going to be stored in `x.grad` and `y.grad` if we specify the option `requires_grad=True`. We can let PyTorch compute the gradients by invoking `z.backward()`. Check that indeed `x.grad` and `y.grad` hold the desired values.\n"
   ]
  },
  {
   "cell_type": "code",
   "execution_count": 17,
   "id": "65f13c7f",
   "metadata": {
    "ExecuteTime": {
     "end_time": "2024-09-19T10:25:06.967129Z",
     "start_time": "2024-09-19T10:25:06.961072Z"
    },
    "execution": {
     "iopub.execute_input": "2025-10-07T11:46:35.899873Z",
     "iopub.status.busy": "2025-10-07T11:46:35.899354Z",
     "iopub.status.idle": "2025-10-07T11:46:35.999963Z",
     "shell.execute_reply": "2025-10-07T11:46:35.999044Z"
    },
    "papermill": {
     "duration": 0.11055,
     "end_time": "2025-10-07T11:46:36.001158",
     "exception": false,
     "start_time": "2025-10-07T11:46:35.890608",
     "status": "completed"
    },
    "tags": []
   },
   "outputs": [
    {
     "name": "stdout",
     "output_type": "stream",
     "text": [
      "tensor([8.], dtype=torch.float64)\n",
      "tensor([3.], dtype=torch.float64)\n"
     ]
    }
   ],
   "source": [
    "x = torch.tensor([2], dtype=torch.float64, requires_grad=True)\n",
    "y = torch.tensor([2], dtype=torch.float64, requires_grad=True)\n",
    "z = 2 * x*x + 3 * y\n",
    "z.backward()\n",
    "print(x.grad)\n",
    "print(y.grad)"
   ]
  },
  {
   "cell_type": "markdown",
   "id": "e22a7431",
   "metadata": {
    "papermill": {
     "duration": 0.008431,
     "end_time": "2025-10-07T11:46:36.018447",
     "exception": false,
     "start_time": "2025-10-07T11:46:36.010016",
     "status": "completed"
    },
    "tags": []
   },
   "source": [
    "1. Create tensors $s = [1]$ and $t = [1]$, define a new tensor $w = 5s + 6$ and compute its gradient. What is the gradient associated to $t$? (Notice that $w$ does not depend on $t$). \n",
    "2. What happens if we try to define an integer tensor with `requires_grad=True`?\n",
    "3. What happens if we call `numpy()` on a tensor that has `requires_grad=True`?"
   ]
  },
  {
   "cell_type": "code",
   "execution_count": 18,
   "id": "1d9c1fb1",
   "metadata": {
    "ExecuteTime": {
     "end_time": "2024-09-19T12:03:47.093944Z",
     "start_time": "2024-09-19T12:03:47.091851Z"
    },
    "execution": {
     "iopub.execute_input": "2025-10-07T11:46:36.036107Z",
     "iopub.status.busy": "2025-10-07T11:46:36.035875Z",
     "iopub.status.idle": "2025-10-07T11:46:36.038802Z",
     "shell.execute_reply": "2025-10-07T11:46:36.038260Z"
    },
    "papermill": {
     "duration": 0.012993,
     "end_time": "2025-10-07T11:46:36.039879",
     "exception": false,
     "start_time": "2025-10-07T11:46:36.026886",
     "status": "completed"
    },
    "tags": []
   },
   "outputs": [],
   "source": [
    "## 1: gradient of t for w = 5s + 6.\n",
    "\n",
    "## 2: integer tensor with requires_grad.\n",
    "\n",
    "## 3: compute .numpy() of a tensor with requires_grad."
   ]
  },
  {
   "cell_type": "markdown",
   "id": "53fd2122",
   "metadata": {
    "papermill": {
     "duration": 0.00855,
     "end_time": "2025-10-07T11:46:36.057096",
     "exception": false,
     "start_time": "2025-10-07T11:46:36.048546",
     "status": "completed"
    },
    "tags": []
   },
   "source": [
    "In this section we point out a very important feature of gradients, namely that they are *cumulative*! In order to see what does that mean, let's see in practice the example that was given in class:\n",
    "\n",
    "1. Create tensors $x=[2], y=[3]$ (with flag `requires_grad=True`).\n",
    "2. Compute $z = x * x + y$ and perform the backward pass.\n",
    "3. Check that the gradients are as expected: $\\frac{\\delta z}{\\delta x}=2x=4$, $\\frac{\\delta z}{\\delta y} = 1$.\n",
    "4. Compute $g = xy + 3x$ and perform che backward pass.\n",
    "5. Check out the gradients: $\\frac{\\delta g}{\\delta x}=y + 3=6$, $\\frac{\\delta g}{\\delta y} = x = 2$.\n",
    "6. Do you see the expected value? Can you explain why? (hint: gradients are *cumulative*).\n",
    "7. In order to fix this potential issue, use [`torch.zero_grad()`](https://docs.pytorch.org/docs/stable/generated/torch.optim.Optimizer.zero_grad.html) in between the computation of $z$ and $g$. Do you observe the expected gradient now?"
   ]
  },
  {
   "cell_type": "code",
   "execution_count": 19,
   "id": "6b724fbc",
   "metadata": {
    "execution": {
     "iopub.execute_input": "2025-10-07T11:46:36.074975Z",
     "iopub.status.busy": "2025-10-07T11:46:36.074450Z",
     "iopub.status.idle": "2025-10-07T11:46:36.077760Z",
     "shell.execute_reply": "2025-10-07T11:46:36.077057Z"
    },
    "papermill": {
     "duration": 0.013449,
     "end_time": "2025-10-07T11:46:36.078891",
     "exception": false,
     "start_time": "2025-10-07T11:46:36.065442",
     "status": "completed"
    },
    "tags": []
   },
   "outputs": [],
   "source": [
    "## 1: create x, y.\n",
    "\n",
    "## 2: compute z.\n",
    "\n",
    "## 3: check out gradients of x, y.\n",
    "\n",
    "## 4: compute g.\n",
    "\n",
    "## 5: check out gradients of x, y\n",
    "\n",
    "## 7: Repeat 1-5 using torch.zero_grad()\n"
   ]
  },
  {
   "cell_type": "markdown",
   "id": "646a9c80",
   "metadata": {
    "papermill": {
     "duration": 0.008298,
     "end_time": "2025-10-07T11:46:36.095469",
     "exception": false,
     "start_time": "2025-10-07T11:46:36.087171",
     "status": "completed"
    },
    "tags": []
   },
   "source": [
    "## Device (GPU vs CPU)\n",
    "\n",
    "In this section we will learn how do computation using the GPU instead of the CPU: notice that this is the main reason why, in Deep Learning applications, PyTorch is used over NumPy.\n",
    "\n",
    "By default, tensors are accessed by the CPU. You can check it easily using the [`.device()`](https://pytorch.org/docs/stable/tensor_attributes.html#torch.device) method.\n",
    "1) Create an identity matrix of size (4, 4) and access its device attribute."
   ]
  },
  {
   "cell_type": "code",
   "execution_count": 20,
   "id": "ac0bf61a",
   "metadata": {
    "ExecuteTime": {
     "end_time": "2024-09-18T20:17:23.060931Z",
     "start_time": "2024-09-18T20:17:23.055769Z"
    },
    "execution": {
     "iopub.execute_input": "2025-10-07T11:46:36.113375Z",
     "iopub.status.busy": "2025-10-07T11:46:36.112916Z",
     "iopub.status.idle": "2025-10-07T11:46:36.116303Z",
     "shell.execute_reply": "2025-10-07T11:46:36.115587Z"
    },
    "papermill": {
     "duration": 0.013504,
     "end_time": "2025-10-07T11:46:36.117394",
     "exception": false,
     "start_time": "2025-10-07T11:46:36.103890",
     "status": "completed"
    },
    "tags": []
   },
   "outputs": [],
   "source": [
    "## 1: see .device of a matrix\n",
    "\n",
    "v = []  # create a tensor"
   ]
  },
  {
   "cell_type": "markdown",
   "id": "1b5960d6",
   "metadata": {
    "papermill": {
     "duration": 0.008315,
     "end_time": "2025-10-07T11:46:36.134302",
     "exception": false,
     "start_time": "2025-10-07T11:46:36.125987",
     "status": "completed"
    },
    "tags": []
   },
   "source": [
    "Hence, every time we want to use the GPU, we need to explicitly move the tensors to the desired device. Careful here: your laptop doesn't necessarily have a dedicated GPU. And, even if it has one, it might not be compatible with CUDA (the NVIDIA interface that allows computations to be performed on the GPU).\n",
    "\n",
    "You can check if CUDA is available on your machine by simply using [`cuda.is_available()`](https://pytorch.org/docs/stable/generated/torch.cuda.is_available.html)."
   ]
  },
  {
   "cell_type": "code",
   "execution_count": 21,
   "id": "6154cd56",
   "metadata": {
    "ExecuteTime": {
     "end_time": "2024-09-18T20:08:57.159307Z",
     "start_time": "2024-09-18T20:08:57.154986Z"
    },
    "execution": {
     "iopub.execute_input": "2025-10-07T11:46:36.152873Z",
     "iopub.status.busy": "2025-10-07T11:46:36.152200Z",
     "iopub.status.idle": "2025-10-07T11:46:36.156903Z",
     "shell.execute_reply": "2025-10-07T11:46:36.156196Z"
    },
    "papermill": {
     "duration": 0.01495,
     "end_time": "2025-10-07T11:46:36.157990",
     "exception": false,
     "start_time": "2025-10-07T11:46:36.143040",
     "status": "completed"
    },
    "tags": []
   },
   "outputs": [
    {
     "data": {
      "text/plain": [
       "True"
      ]
     },
     "execution_count": 21,
     "metadata": {},
     "output_type": "execute_result"
    }
   ],
   "source": [
    "torch.cuda.is_available()"
   ]
  },
  {
   "cell_type": "markdown",
   "id": "e1a4559b",
   "metadata": {
    "papermill": {
     "duration": 0.008488,
     "end_time": "2025-10-07T11:46:36.175025",
     "exception": false,
     "start_time": "2025-10-07T11:46:36.166537",
     "status": "completed"
    },
    "tags": []
   },
   "source": [
    "If the above returns False, it could be either because you didn't install correctly CUDA, or because you laptop doesn't have a GPU compatible with it. \n",
    "If you have a MacBook with Apple Silicon processors, you can still use the device `mps`:"
   ]
  },
  {
   "cell_type": "code",
   "execution_count": 22,
   "id": "2c5056c6",
   "metadata": {
    "ExecuteTime": {
     "end_time": "2024-09-18T20:12:06.271423Z",
     "start_time": "2024-09-18T20:12:06.267589Z"
    },
    "execution": {
     "iopub.execute_input": "2025-10-07T11:46:36.193286Z",
     "iopub.status.busy": "2025-10-07T11:46:36.193093Z",
     "iopub.status.idle": "2025-10-07T11:46:36.197354Z",
     "shell.execute_reply": "2025-10-07T11:46:36.196658Z"
    },
    "papermill": {
     "duration": 0.014953,
     "end_time": "2025-10-07T11:46:36.198438",
     "exception": false,
     "start_time": "2025-10-07T11:46:36.183485",
     "status": "completed"
    },
    "tags": []
   },
   "outputs": [
    {
     "data": {
      "text/plain": [
       "False"
      ]
     },
     "execution_count": 22,
     "metadata": {},
     "output_type": "execute_result"
    }
   ],
   "source": [
    "# For mac M1/2/3/* users\n",
    "torch.backends.mps.is_available()"
   ]
  },
  {
   "cell_type": "markdown",
   "id": "76a23887",
   "metadata": {
    "papermill": {
     "duration": 0.008514,
     "end_time": "2025-10-07T11:46:36.215630",
     "exception": false,
     "start_time": "2025-10-07T11:46:36.207116",
     "status": "completed"
    },
    "tags": []
   },
   "source": [
    "We can set the device to one of these three options:\n",
    "- `cuda` (if you have a NVIDIA graphics card). Might be `cuda:0` etc if you have more than one.\n",
    "- `mps` (if you have a MacBook with M1/2/3/* processor)\n",
    "- `cpu` otherwise\n",
    "\n",
    "If your laptop doesn't have any of the above-mentioned devices apart from the CPU, you can use Kaggle's notebooks: they offer free hours of GPU per week (they count the hours the kernel is running, not if you are actually using the notebook. Hence, remember to shut the kernel down when you don't use it!!!)"
   ]
  },
  {
   "cell_type": "markdown",
   "id": "65495269",
   "metadata": {
    "papermill": {
     "duration": 0.008413,
     "end_time": "2025-10-07T11:46:36.232678",
     "exception": false,
     "start_time": "2025-10-07T11:46:36.224265",
     "status": "completed"
    },
    "tags": []
   },
   "source": [
    "If you are using Kaggle platform for your projects (we recommend you to do that), you have at your disposal 30h/week of free GPUs: in order to activate it, you need to open a notebook, go to settings -> accelerator and you can select a GPU from there. If the GPU options are non-clickable, it is because you have to verify you account using your phone number. Go to home -> your picture (top right border) -> settings -> phone verification. Before the options become actually clickable you will need to wait a few minutes (<5')."
   ]
  },
  {
   "cell_type": "code",
   "execution_count": 23,
   "id": "9099afa6",
   "metadata": {
    "ExecuteTime": {
     "end_time": "2024-09-18T20:17:26.711323Z",
     "start_time": "2024-09-18T20:17:26.707268Z"
    },
    "execution": {
     "iopub.execute_input": "2025-10-07T11:46:36.251067Z",
     "iopub.status.busy": "2025-10-07T11:46:36.250451Z",
     "iopub.status.idle": "2025-10-07T11:46:36.255341Z",
     "shell.execute_reply": "2025-10-07T11:46:36.254661Z"
    },
    "papermill": {
     "duration": 0.015299,
     "end_time": "2025-10-07T11:46:36.256434",
     "exception": false,
     "start_time": "2025-10-07T11:46:36.241135",
     "status": "completed"
    },
    "tags": []
   },
   "outputs": [
    {
     "data": {
      "text/plain": [
       "device(type='cuda')"
      ]
     },
     "execution_count": 23,
     "metadata": {},
     "output_type": "execute_result"
    }
   ],
   "source": [
    "device = torch.device('cuda' if torch.cuda.is_available() else 'mps' if torch.backends.mps.is_available() else 'cpu')\n",
    "device"
   ]
  },
  {
   "cell_type": "markdown",
   "id": "3ac21194",
   "metadata": {
    "papermill": {
     "duration": 0.008646,
     "end_time": "2025-10-07T11:46:36.273699",
     "exception": false,
     "start_time": "2025-10-07T11:46:36.265053",
     "status": "completed"
    },
    "tags": []
   },
   "source": [
    "Finally, move the tensor `v` you created earlier to the most convenient device. Use function [`.to`](https://pytorch.org/docs/stable/generated/torch.Tensor.to.html). Careful: is it an in-place method? Check that the device is indeed correct."
   ]
  },
  {
   "cell_type": "code",
   "execution_count": 24,
   "id": "2afff834",
   "metadata": {
    "ExecuteTime": {
     "end_time": "2024-09-18T20:24:40.156801Z",
     "start_time": "2024-09-18T20:24:40.153872Z"
    },
    "execution": {
     "iopub.execute_input": "2025-10-07T11:46:36.292262Z",
     "iopub.status.busy": "2025-10-07T11:46:36.291671Z",
     "iopub.status.idle": "2025-10-07T11:46:36.295026Z",
     "shell.execute_reply": "2025-10-07T11:46:36.294335Z"
    },
    "papermill": {
     "duration": 0.013811,
     "end_time": "2025-10-07T11:46:36.296135",
     "exception": false,
     "start_time": "2025-10-07T11:46:36.282324",
     "status": "completed"
    },
    "tags": []
   },
   "outputs": [],
   "source": [
    "# Move vector v to the correct device. Check it is indeed on the desired device."
   ]
  },
  {
   "cell_type": "markdown",
   "id": "30bdfce0",
   "metadata": {
    "papermill": {
     "duration": 0.008547,
     "end_time": "2025-10-07T11:46:36.313325",
     "exception": false,
     "start_time": "2025-10-07T11:46:36.304778",
     "status": "completed"
    },
    "tags": []
   },
   "source": [
    "You can also create a tensor and send it directly to the correct device. \n",
    "1. Create a tensor of ones of size (3, 3) and specify in its constructor the `device` attribute. Check that, indeed, the tensor has been initialized with the correct device."
   ]
  },
  {
   "cell_type": "code",
   "execution_count": 25,
   "id": "40c91105",
   "metadata": {
    "ExecuteTime": {
     "end_time": "2024-09-19T06:49:34.057350Z",
     "start_time": "2024-09-19T06:49:34.051445Z"
    },
    "execution": {
     "iopub.execute_input": "2025-10-07T11:46:36.331572Z",
     "iopub.status.busy": "2025-10-07T11:46:36.331203Z",
     "iopub.status.idle": "2025-10-07T11:46:36.334157Z",
     "shell.execute_reply": "2025-10-07T11:46:36.333645Z"
    },
    "papermill": {
     "duration": 0.013162,
     "end_time": "2025-10-07T11:46:36.335122",
     "exception": false,
     "start_time": "2025-10-07T11:46:36.321960",
     "status": "completed"
    },
    "tags": []
   },
   "outputs": [],
   "source": [
    "## 1: Create a tensor and initialize it to the correct device."
   ]
  },
  {
   "cell_type": "markdown",
   "id": "33740a76",
   "metadata": {
    "papermill": {
     "duration": 0.008622,
     "end_time": "2025-10-07T11:46:36.352610",
     "exception": false,
     "start_time": "2025-10-07T11:46:36.343988",
     "status": "completed"
    },
    "tags": []
   },
   "source": [
    "### GPUs vs CPUs"
   ]
  },
  {
   "cell_type": "markdown",
   "id": "cee085c1",
   "metadata": {
    "papermill": {
     "duration": 0.008879,
     "end_time": "2025-10-07T11:46:36.370138",
     "exception": false,
     "start_time": "2025-10-07T11:46:36.361259",
     "status": "completed"
    },
    "tags": []
   },
   "source": [
    "Now, we prove empirically that GPUs are much faster than CPUs at doing large calculations.\n",
    "\n",
    "Create large tensors $G, H$ both of size (15000, 15000). Take their matrix product and measure how long it takes (use [`%%time`](https://ipython.readthedocs.io/en/9.2.0/interactive/magics.html) cell magic notebook function)."
   ]
  },
  {
   "cell_type": "code",
   "execution_count": 26,
   "id": "95325370",
   "metadata": {
    "ExecuteTime": {
     "end_time": "2024-09-18T20:17:26.711323Z",
     "start_time": "2024-09-18T20:17:26.707268Z"
    },
    "execution": {
     "iopub.execute_input": "2025-10-07T11:46:36.388415Z",
     "iopub.status.busy": "2025-10-07T11:46:36.387977Z",
     "iopub.status.idle": "2025-10-07T11:46:36.392396Z",
     "shell.execute_reply": "2025-10-07T11:46:36.391885Z"
    },
    "papermill": {
     "duration": 0.014578,
     "end_time": "2025-10-07T11:46:36.393404",
     "exception": false,
     "start_time": "2025-10-07T11:46:36.378826",
     "status": "completed"
    },
    "tags": []
   },
   "outputs": [
    {
     "data": {
      "text/plain": [
       "device(type='cuda')"
      ]
     },
     "execution_count": 26,
     "metadata": {},
     "output_type": "execute_result"
    }
   ],
   "source": [
    "device = torch.device('cuda' if torch.cuda.is_available() else 'mps' if torch.backends.mps.is_available() else 'cpu')\n",
    "device"
   ]
  },
  {
   "cell_type": "code",
   "execution_count": 27,
   "id": "f376cbe5",
   "metadata": {
    "ExecuteTime": {
     "end_time": "2024-09-19T09:49:37.404396Z",
     "start_time": "2024-09-19T09:49:35.677903Z"
    },
    "execution": {
     "iopub.execute_input": "2025-10-07T11:46:36.411856Z",
     "iopub.status.busy": "2025-10-07T11:46:36.411641Z",
     "iopub.status.idle": "2025-10-07T11:46:40.046327Z",
     "shell.execute_reply": "2025-10-07T11:46:40.045520Z"
    },
    "papermill": {
     "duration": 3.645607,
     "end_time": "2025-10-07T11:46:40.047817",
     "exception": false,
     "start_time": "2025-10-07T11:46:36.402210",
     "status": "completed"
    },
    "tags": []
   },
   "outputs": [],
   "source": [
    "# Create E and F\n",
    "G = torch.rand(15000, 15000)\n",
    "H = torch.rand(15000, 15000)"
   ]
  },
  {
   "cell_type": "code",
   "execution_count": 28,
   "id": "76277e02",
   "metadata": {
    "ExecuteTime": {
     "end_time": "2024-09-19T09:49:55.733265Z",
     "start_time": "2024-09-19T09:49:45.723855Z"
    },
    "execution": {
     "iopub.execute_input": "2025-10-07T11:46:40.067023Z",
     "iopub.status.busy": "2025-10-07T11:46:40.066801Z",
     "iopub.status.idle": "2025-10-07T11:47:04.630694Z",
     "shell.execute_reply": "2025-10-07T11:47:04.629569Z"
    },
    "papermill": {
     "duration": 24.575052,
     "end_time": "2025-10-07T11:47:04.632215",
     "exception": false,
     "start_time": "2025-10-07T11:46:40.057163",
     "status": "completed"
    },
    "scrolled": true,
    "tags": []
   },
   "outputs": [
    {
     "name": "stdout",
     "output_type": "stream",
     "text": [
      "CPU times: user 48.4 s, sys: 612 ms, total: 49.1 s\n",
      "Wall time: 24.5 s\n"
     ]
    },
    {
     "data": {
      "text/plain": [
       "tensor([[3726.7644, 3756.2241, 3699.6301,  ..., 3721.4373, 3738.4124,\n",
       "         3754.0789],\n",
       "        [3755.6597, 3777.7573, 3741.3384,  ..., 3755.9946, 3770.7935,\n",
       "         3747.3948],\n",
       "        [3767.4836, 3801.6355, 3752.6895,  ..., 3770.9094, 3765.2361,\n",
       "         3759.9214],\n",
       "        ...,\n",
       "        [3761.4956, 3790.4880, 3766.2351,  ..., 3771.4729, 3783.7246,\n",
       "         3779.7419],\n",
       "        [3765.3042, 3799.5371, 3747.0020,  ..., 3755.6514, 3781.7229,\n",
       "         3793.4360],\n",
       "        [3757.9343, 3775.9114, 3742.3940,  ..., 3752.0537, 3760.3030,\n",
       "         3760.2764]])"
      ]
     },
     "execution_count": 28,
     "metadata": {},
     "output_type": "execute_result"
    }
   ],
   "source": [
    "%%time\n",
    "G @ H"
   ]
  },
  {
   "cell_type": "markdown",
   "id": "ccf7b3ae",
   "metadata": {
    "papermill": {
     "duration": 0.008948,
     "end_time": "2025-10-07T11:47:04.650516",
     "exception": false,
     "start_time": "2025-10-07T11:47:04.641568",
     "status": "completed"
    },
    "tags": []
   },
   "source": [
    "Move $E$ and $F$ to the most convenient device at your disposal (different from CPU, if possible), and compute the same matrix product."
   ]
  },
  {
   "cell_type": "code",
   "execution_count": 29,
   "id": "ab2ff3bd",
   "metadata": {
    "ExecuteTime": {
     "end_time": "2024-09-19T09:50:02.144090Z",
     "start_time": "2024-09-19T09:50:01.448426Z"
    },
    "execution": {
     "iopub.execute_input": "2025-10-07T11:47:04.669575Z",
     "iopub.status.busy": "2025-10-07T11:47:04.669356Z",
     "iopub.status.idle": "2025-10-07T11:47:05.402217Z",
     "shell.execute_reply": "2025-10-07T11:47:05.401640Z"
    },
    "papermill": {
     "duration": 0.743881,
     "end_time": "2025-10-07T11:47:05.403461",
     "exception": false,
     "start_time": "2025-10-07T11:47:04.659580",
     "status": "completed"
    },
    "tags": []
   },
   "outputs": [],
   "source": [
    "# Move the tensors to GPU in another cell, so that the time is not counted.\n",
    "G = G.to(device)\n",
    "H = H.to(device)"
   ]
  },
  {
   "cell_type": "code",
   "execution_count": 30,
   "id": "dd40d2f3",
   "metadata": {
    "ExecuteTime": {
     "end_time": "2024-09-19T09:50:05.795896Z",
     "start_time": "2024-09-19T09:50:04.017497Z"
    },
    "execution": {
     "iopub.execute_input": "2025-10-07T11:47:05.424148Z",
     "iopub.status.busy": "2025-10-07T11:47:05.423938Z",
     "iopub.status.idle": "2025-10-07T11:47:07.642149Z",
     "shell.execute_reply": "2025-10-07T11:47:07.641377Z"
    },
    "jupyter": {
     "source_hidden": true
    },
    "papermill": {
     "duration": 2.230038,
     "end_time": "2025-10-07T11:47:07.643302",
     "exception": false,
     "start_time": "2025-10-07T11:47:05.413264",
     "status": "completed"
    },
    "tags": []
   },
   "outputs": [
    {
     "name": "stdout",
     "output_type": "stream",
     "text": [
      "CPU times: user 15 ms, sys: 22.7 ms, total: 37.7 ms\n",
      "Wall time: 111 ms\n"
     ]
    },
    {
     "data": {
      "text/plain": [
       "tensor([[3726.7639, 3756.2234, 3699.6274,  ..., 3721.4304, 3738.4143,\n",
       "         3754.0664],\n",
       "        [3755.6550, 3777.7593, 3741.3372,  ..., 3755.9897, 3770.8015,\n",
       "         3747.3979],\n",
       "        [3767.4851, 3801.6426, 3752.6885,  ..., 3770.9121, 3765.2329,\n",
       "         3759.9214],\n",
       "        ...,\n",
       "        [3761.4927, 3790.4978, 3766.2434,  ..., 3771.4734, 3783.7253,\n",
       "         3779.7429],\n",
       "        [3765.3115, 3799.5425, 3747.0039,  ..., 3755.6516, 3781.7271,\n",
       "         3793.4272],\n",
       "        [3757.9209, 3775.9148, 3742.3926,  ..., 3752.0532, 3760.2930,\n",
       "         3760.2812]], device='cuda:0')"
      ]
     },
     "execution_count": 30,
     "metadata": {},
     "output_type": "execute_result"
    }
   ],
   "source": [
    "%%time\n",
    "G @ H"
   ]
  },
  {
   "cell_type": "markdown",
   "id": "78806528",
   "metadata": {
    "papermill": {
     "duration": 0.00907,
     "end_time": "2025-10-07T11:47:07.661913",
     "exception": false,
     "start_time": "2025-10-07T11:47:07.652843",
     "status": "completed"
    },
    "tags": []
   },
   "source": [
    "Side note: on my laptop (MacBook) I noticed a performance improvement by $\\approx\\times 10$. On Kaggle the performance improvement is much larger (from >20'' to <<1').\n",
    "\n",
    "At the end of this task, if you are using Kaggle, remember to shut down your kernel (or Kaggle will continue charging you GPU time)."
   ]
  },
  {
   "cell_type": "markdown",
   "id": "077b5de8",
   "metadata": {
    "papermill": {
     "duration": 0.008983,
     "end_time": "2025-10-07T11:47:07.679972",
     "exception": false,
     "start_time": "2025-10-07T11:47:07.670989",
     "status": "completed"
    },
    "tags": []
   },
   "source": [
    "# A super quick introduction to pandas\n",
    "\n",
    "[Pandas](https://pandas.pydata.org/) is the equivalent of a Python database (but it is also a \"data analysis and manipulation tool\"). Or Python's version of Excel, if you prefer.\n",
    "\n",
    "Install it in your environment (using your IDE's GUI, or by typing in your command line `conda install pandas`).\n",
    "\n",
    "Next, we will see the most basic usage of pandas: making queries and modifying your data. Keep in mind that pandas does much more than that: see this simple [cheatsheet](https://pandas.pydata.org/docs/user_guide/10min.html) for reference.\n",
    "\n",
    "It is best practice, in pandas, to use the shortcut `pd` on import."
   ]
  },
  {
   "cell_type": "code",
   "execution_count": 31,
   "id": "94f4bedd",
   "metadata": {
    "execution": {
     "iopub.execute_input": "2025-10-07T11:47:07.699360Z",
     "iopub.status.busy": "2025-10-07T11:47:07.698898Z",
     "iopub.status.idle": "2025-10-07T11:47:09.116804Z",
     "shell.execute_reply": "2025-10-07T11:47:09.115996Z"
    },
    "papermill": {
     "duration": 1.429083,
     "end_time": "2025-10-07T11:47:09.118151",
     "exception": false,
     "start_time": "2025-10-07T11:47:07.689068",
     "status": "completed"
    },
    "tags": []
   },
   "outputs": [],
   "source": [
    "import pandas as pd"
   ]
  },
  {
   "cell_type": "markdown",
   "id": "41ead65d",
   "metadata": {
    "papermill": {
     "duration": 0.0092,
     "end_time": "2025-10-07T11:47:09.137183",
     "exception": false,
     "start_time": "2025-10-07T11:47:09.127983",
     "status": "completed"
    },
    "tags": []
   },
   "source": [
    "A table in pandas is called `pd.DataFrame`. Single columns, instead, are called `pd.Series` (a `pd.Series` is the pandas equivalent of a `torch.tensor` or `np.array`).\n",
    "You can create a table using some data in a dictionary, or importing it from any well-formatted file (see, e.g., [`pd.read_csv`](https://pandas.pydata.org/docs/reference/api/pandas.read_csv.html#pandas.read_csv))."
   ]
  },
  {
   "cell_type": "code",
   "execution_count": 32,
   "id": "0c1c54e2",
   "metadata": {
    "execution": {
     "iopub.execute_input": "2025-10-07T11:47:09.157040Z",
     "iopub.status.busy": "2025-10-07T11:47:09.156364Z",
     "iopub.status.idle": "2025-10-07T11:47:09.178170Z",
     "shell.execute_reply": "2025-10-07T11:47:09.177593Z"
    },
    "papermill": {
     "duration": 0.032851,
     "end_time": "2025-10-07T11:47:09.179259",
     "exception": false,
     "start_time": "2025-10-07T11:47:09.146408",
     "status": "completed"
    },
    "tags": []
   },
   "outputs": [
    {
     "data": {
      "text/html": [
       "<div>\n",
       "<style scoped>\n",
       "    .dataframe tbody tr th:only-of-type {\n",
       "        vertical-align: middle;\n",
       "    }\n",
       "\n",
       "    .dataframe tbody tr th {\n",
       "        vertical-align: top;\n",
       "    }\n",
       "\n",
       "    .dataframe thead th {\n",
       "        text-align: right;\n",
       "    }\n",
       "</style>\n",
       "<table border=\"1\" class=\"dataframe\">\n",
       "  <thead>\n",
       "    <tr style=\"text-align: right;\">\n",
       "      <th></th>\n",
       "      <th>Name</th>\n",
       "      <th>Department</th>\n",
       "      <th>Salary</th>\n",
       "      <th>Years_at_Company</th>\n",
       "    </tr>\n",
       "  </thead>\n",
       "  <tbody>\n",
       "    <tr>\n",
       "      <th>a</th>\n",
       "      <td>Alice</td>\n",
       "      <td>HR</td>\n",
       "      <td>50000</td>\n",
       "      <td>2</td>\n",
       "    </tr>\n",
       "    <tr>\n",
       "      <th>b</th>\n",
       "      <td>Bob</td>\n",
       "      <td>IT</td>\n",
       "      <td>60000</td>\n",
       "      <td>5</td>\n",
       "    </tr>\n",
       "    <tr>\n",
       "      <th>c</th>\n",
       "      <td>Charlie</td>\n",
       "      <td>Finance</td>\n",
       "      <td>55000</td>\n",
       "      <td>3</td>\n",
       "    </tr>\n",
       "    <tr>\n",
       "      <th>d</th>\n",
       "      <td>Diana</td>\n",
       "      <td>IT</td>\n",
       "      <td>65000</td>\n",
       "      <td>7</td>\n",
       "    </tr>\n",
       "    <tr>\n",
       "      <th>e</th>\n",
       "      <td>Ethan</td>\n",
       "      <td>HR</td>\n",
       "      <td>52000</td>\n",
       "      <td>1</td>\n",
       "    </tr>\n",
       "  </tbody>\n",
       "</table>\n",
       "</div>"
      ],
      "text/plain": [
       "      Name Department  Salary  Years_at_Company\n",
       "a    Alice         HR   50000                 2\n",
       "b      Bob         IT   60000                 5\n",
       "c  Charlie    Finance   55000                 3\n",
       "d    Diana         IT   65000                 7\n",
       "e    Ethan         HR   52000                 1"
      ]
     },
     "execution_count": 32,
     "metadata": {},
     "output_type": "execute_result"
    }
   ],
   "source": [
    "data = {\n",
    "    \"Name\": [\"Alice\", \"Bob\", \"Charlie\", \"Diana\", \"Ethan\"],\n",
    "    \"Department\": [\"HR\", \"IT\", \"Finance\", \"IT\", \"HR\"],\n",
    "    \"Salary\": [50000, 60000, 55000, 65000, 52000],\n",
    "    \"Years_at_Company\": [2, 5, 3, 7, 1],\n",
    "}\n",
    "\n",
    "# Create a DataFrame\n",
    "df = pd.DataFrame(data, index=['a', 'b', 'c', 'd', 'e'])\n",
    "df"
   ]
  },
  {
   "cell_type": "markdown",
   "id": "42c883d1",
   "metadata": {
    "papermill": {
     "duration": 0.009473,
     "end_time": "2025-10-07T11:47:09.198856",
     "exception": false,
     "start_time": "2025-10-07T11:47:09.189383",
     "status": "completed"
    },
    "tags": []
   },
   "source": [
    "As you see, the data is nicely displayed in a table. The additional column (without a title) is the index: namely, the name of every row. By default it is an increasing number, but you can change it to be anything (in our case, we used letters)."
   ]
  },
  {
   "cell_type": "markdown",
   "id": "2324ddc3",
   "metadata": {
    "papermill": {
     "duration": 0.00918,
     "end_time": "2025-10-07T11:47:09.217294",
     "exception": false,
     "start_time": "2025-10-07T11:47:09.208114",
     "status": "completed"
    },
    "tags": []
   },
   "source": [
    "## Queries\n",
    "\n",
    "You can select columns using the usual `[]` notation (this returns a `pd.Series`):"
   ]
  },
  {
   "cell_type": "code",
   "execution_count": 33,
   "id": "cb4128ee",
   "metadata": {
    "execution": {
     "iopub.execute_input": "2025-10-07T11:47:09.237300Z",
     "iopub.status.busy": "2025-10-07T11:47:09.236681Z",
     "iopub.status.idle": "2025-10-07T11:47:09.243069Z",
     "shell.execute_reply": "2025-10-07T11:47:09.242369Z"
    },
    "papermill": {
     "duration": 0.01763,
     "end_time": "2025-10-07T11:47:09.244278",
     "exception": false,
     "start_time": "2025-10-07T11:47:09.226648",
     "status": "completed"
    },
    "tags": []
   },
   "outputs": [
    {
     "data": {
      "text/plain": [
       "a         HR\n",
       "b         IT\n",
       "c    Finance\n",
       "d         IT\n",
       "e         HR\n",
       "Name: Department, dtype: object"
      ]
     },
     "execution_count": 33,
     "metadata": {},
     "output_type": "execute_result"
    }
   ],
   "source": [
    "df['Department']"
   ]
  },
  {
   "cell_type": "markdown",
   "id": "0d92691f",
   "metadata": {
    "papermill": {
     "duration": 0.009143,
     "end_time": "2025-10-07T11:47:09.263061",
     "exception": false,
     "start_time": "2025-10-07T11:47:09.253918",
     "status": "completed"
    },
    "tags": []
   },
   "source": [
    "Or, multiple columns with the ``[[]]`` notation (this returns a `pd.DataFrame`):"
   ]
  },
  {
   "cell_type": "code",
   "execution_count": 34,
   "id": "31ff364e",
   "metadata": {
    "execution": {
     "iopub.execute_input": "2025-10-07T11:47:09.282219Z",
     "iopub.status.busy": "2025-10-07T11:47:09.282031Z",
     "iopub.status.idle": "2025-10-07T11:47:09.297444Z",
     "shell.execute_reply": "2025-10-07T11:47:09.296728Z"
    },
    "papermill": {
     "duration": 0.026304,
     "end_time": "2025-10-07T11:47:09.298568",
     "exception": false,
     "start_time": "2025-10-07T11:47:09.272264",
     "status": "completed"
    },
    "tags": []
   },
   "outputs": [
    {
     "data": {
      "text/html": [
       "<div>\n",
       "<style scoped>\n",
       "    .dataframe tbody tr th:only-of-type {\n",
       "        vertical-align: middle;\n",
       "    }\n",
       "\n",
       "    .dataframe tbody tr th {\n",
       "        vertical-align: top;\n",
       "    }\n",
       "\n",
       "    .dataframe thead th {\n",
       "        text-align: right;\n",
       "    }\n",
       "</style>\n",
       "<table border=\"1\" class=\"dataframe\">\n",
       "  <thead>\n",
       "    <tr style=\"text-align: right;\">\n",
       "      <th></th>\n",
       "      <th>Department</th>\n",
       "      <th>Salary</th>\n",
       "    </tr>\n",
       "  </thead>\n",
       "  <tbody>\n",
       "    <tr>\n",
       "      <th>a</th>\n",
       "      <td>HR</td>\n",
       "      <td>50000</td>\n",
       "    </tr>\n",
       "    <tr>\n",
       "      <th>b</th>\n",
       "      <td>IT</td>\n",
       "      <td>60000</td>\n",
       "    </tr>\n",
       "    <tr>\n",
       "      <th>c</th>\n",
       "      <td>Finance</td>\n",
       "      <td>55000</td>\n",
       "    </tr>\n",
       "    <tr>\n",
       "      <th>d</th>\n",
       "      <td>IT</td>\n",
       "      <td>65000</td>\n",
       "    </tr>\n",
       "    <tr>\n",
       "      <th>e</th>\n",
       "      <td>HR</td>\n",
       "      <td>52000</td>\n",
       "    </tr>\n",
       "  </tbody>\n",
       "</table>\n",
       "</div>"
      ],
      "text/plain": [
       "  Department  Salary\n",
       "a         HR   50000\n",
       "b         IT   60000\n",
       "c    Finance   55000\n",
       "d         IT   65000\n",
       "e         HR   52000"
      ]
     },
     "execution_count": 34,
     "metadata": {},
     "output_type": "execute_result"
    }
   ],
   "source": [
    "df[['Department','Salary']]"
   ]
  },
  {
   "cell_type": "markdown",
   "id": "e66ff6a4",
   "metadata": {
    "papermill": {
     "duration": 0.009468,
     "end_time": "2025-10-07T11:47:09.317530",
     "exception": false,
     "start_time": "2025-10-07T11:47:09.308062",
     "status": "completed"
    },
    "tags": []
   },
   "source": [
    "You can select rows (as much as in SQL) according to any condition: it is enough to create a boolean vector with the rows to select, and use the following syntax:"
   ]
  },
  {
   "cell_type": "code",
   "execution_count": 35,
   "id": "01e6cd1b",
   "metadata": {
    "execution": {
     "iopub.execute_input": "2025-10-07T11:47:09.337633Z",
     "iopub.status.busy": "2025-10-07T11:47:09.337149Z",
     "iopub.status.idle": "2025-10-07T11:47:09.347284Z",
     "shell.execute_reply": "2025-10-07T11:47:09.346764Z"
    },
    "papermill": {
     "duration": 0.021184,
     "end_time": "2025-10-07T11:47:09.348271",
     "exception": false,
     "start_time": "2025-10-07T11:47:09.327087",
     "status": "completed"
    },
    "tags": []
   },
   "outputs": [
    {
     "data": {
      "text/html": [
       "<div>\n",
       "<style scoped>\n",
       "    .dataframe tbody tr th:only-of-type {\n",
       "        vertical-align: middle;\n",
       "    }\n",
       "\n",
       "    .dataframe tbody tr th {\n",
       "        vertical-align: top;\n",
       "    }\n",
       "\n",
       "    .dataframe thead th {\n",
       "        text-align: right;\n",
       "    }\n",
       "</style>\n",
       "<table border=\"1\" class=\"dataframe\">\n",
       "  <thead>\n",
       "    <tr style=\"text-align: right;\">\n",
       "      <th></th>\n",
       "      <th>Name</th>\n",
       "      <th>Department</th>\n",
       "      <th>Salary</th>\n",
       "      <th>Years_at_Company</th>\n",
       "    </tr>\n",
       "  </thead>\n",
       "  <tbody>\n",
       "    <tr>\n",
       "      <th>a</th>\n",
       "      <td>Alice</td>\n",
       "      <td>HR</td>\n",
       "      <td>50000</td>\n",
       "      <td>2</td>\n",
       "    </tr>\n",
       "    <tr>\n",
       "      <th>b</th>\n",
       "      <td>Bob</td>\n",
       "      <td>IT</td>\n",
       "      <td>60000</td>\n",
       "      <td>5</td>\n",
       "    </tr>\n",
       "    <tr>\n",
       "      <th>e</th>\n",
       "      <td>Ethan</td>\n",
       "      <td>HR</td>\n",
       "      <td>52000</td>\n",
       "      <td>1</td>\n",
       "    </tr>\n",
       "  </tbody>\n",
       "</table>\n",
       "</div>"
      ],
      "text/plain": [
       "    Name Department  Salary  Years_at_Company\n",
       "a  Alice         HR   50000                 2\n",
       "b    Bob         IT   60000                 5\n",
       "e  Ethan         HR   52000                 1"
      ]
     },
     "execution_count": 35,
     "metadata": {},
     "output_type": "execute_result"
    }
   ],
   "source": [
    "df[[True, True, False, False, True]]"
   ]
  },
  {
   "cell_type": "markdown",
   "id": "72ff8a2f",
   "metadata": {
    "papermill": {
     "duration": 0.009523,
     "end_time": "2025-10-07T11:47:09.367985",
     "exception": false,
     "start_time": "2025-10-07T11:47:09.358462",
     "status": "completed"
    },
    "tags": []
   },
   "source": [
    "You can create boolean vectors according to any condition using element-wise boolean operators:"
   ]
  },
  {
   "cell_type": "code",
   "execution_count": 36,
   "id": "11eb6198",
   "metadata": {
    "execution": {
     "iopub.execute_input": "2025-10-07T11:47:09.388492Z",
     "iopub.status.busy": "2025-10-07T11:47:09.388003Z",
     "iopub.status.idle": "2025-10-07T11:47:09.392881Z",
     "shell.execute_reply": "2025-10-07T11:47:09.392176Z"
    },
    "papermill": {
     "duration": 0.01644,
     "end_time": "2025-10-07T11:47:09.393952",
     "exception": false,
     "start_time": "2025-10-07T11:47:09.377512",
     "status": "completed"
    },
    "tags": []
   },
   "outputs": [
    {
     "data": {
      "text/plain": [
       "a    False\n",
       "b     True\n",
       "c     True\n",
       "d     True\n",
       "e    False\n",
       "Name: Salary, dtype: bool"
      ]
     },
     "execution_count": 36,
     "metadata": {},
     "output_type": "execute_result"
    }
   ],
   "source": [
    "df['Salary'] > 53000"
   ]
  },
  {
   "cell_type": "markdown",
   "id": "b02ba17e",
   "metadata": {
    "papermill": {
     "duration": 0.010187,
     "end_time": "2025-10-07T11:47:09.414452",
     "exception": false,
     "start_time": "2025-10-07T11:47:09.404265",
     "status": "completed"
    },
    "tags": []
   },
   "source": [
    "Putting everything together, write a query to select the names of the people that earn more than 53000."
   ]
  },
  {
   "cell_type": "code",
   "execution_count": 37,
   "id": "2fbd8829",
   "metadata": {
    "execution": {
     "iopub.execute_input": "2025-10-07T11:47:09.434867Z",
     "iopub.status.busy": "2025-10-07T11:47:09.434290Z",
     "iopub.status.idle": "2025-10-07T11:47:09.440553Z",
     "shell.execute_reply": "2025-10-07T11:47:09.439908Z"
    },
    "papermill": {
     "duration": 0.017486,
     "end_time": "2025-10-07T11:47:09.441567",
     "exception": false,
     "start_time": "2025-10-07T11:47:09.424081",
     "status": "completed"
    },
    "scrolled": true,
    "tags": []
   },
   "outputs": [
    {
     "data": {
      "text/html": [
       "<div>\n",
       "<style scoped>\n",
       "    .dataframe tbody tr th:only-of-type {\n",
       "        vertical-align: middle;\n",
       "    }\n",
       "\n",
       "    .dataframe tbody tr th {\n",
       "        vertical-align: top;\n",
       "    }\n",
       "\n",
       "    .dataframe thead th {\n",
       "        text-align: right;\n",
       "    }\n",
       "</style>\n",
       "<table border=\"1\" class=\"dataframe\">\n",
       "  <thead>\n",
       "    <tr style=\"text-align: right;\">\n",
       "      <th></th>\n",
       "      <th>Name</th>\n",
       "      <th>Department</th>\n",
       "      <th>Salary</th>\n",
       "      <th>Years_at_Company</th>\n",
       "    </tr>\n",
       "  </thead>\n",
       "  <tbody>\n",
       "    <tr>\n",
       "      <th>a</th>\n",
       "      <td>Alice</td>\n",
       "      <td>HR</td>\n",
       "      <td>50000</td>\n",
       "      <td>2</td>\n",
       "    </tr>\n",
       "    <tr>\n",
       "      <th>b</th>\n",
       "      <td>Bob</td>\n",
       "      <td>IT</td>\n",
       "      <td>60000</td>\n",
       "      <td>5</td>\n",
       "    </tr>\n",
       "    <tr>\n",
       "      <th>c</th>\n",
       "      <td>Charlie</td>\n",
       "      <td>Finance</td>\n",
       "      <td>55000</td>\n",
       "      <td>3</td>\n",
       "    </tr>\n",
       "    <tr>\n",
       "      <th>d</th>\n",
       "      <td>Diana</td>\n",
       "      <td>IT</td>\n",
       "      <td>65000</td>\n",
       "      <td>7</td>\n",
       "    </tr>\n",
       "    <tr>\n",
       "      <th>e</th>\n",
       "      <td>Ethan</td>\n",
       "      <td>HR</td>\n",
       "      <td>52000</td>\n",
       "      <td>1</td>\n",
       "    </tr>\n",
       "  </tbody>\n",
       "</table>\n",
       "</div>"
      ],
      "text/plain": [
       "      Name Department  Salary  Years_at_Company\n",
       "a    Alice         HR   50000                 2\n",
       "b      Bob         IT   60000                 5\n",
       "c  Charlie    Finance   55000                 3\n",
       "d    Diana         IT   65000                 7\n",
       "e    Ethan         HR   52000                 1"
      ]
     },
     "execution_count": 37,
     "metadata": {},
     "output_type": "execute_result"
    }
   ],
   "source": [
    "# Write a query to select the names of the people that earn more than 53000.\n",
    "df"
   ]
  },
  {
   "cell_type": "markdown",
   "id": "b4b3c34a",
   "metadata": {
    "papermill": {
     "duration": 0.00986,
     "end_time": "2025-10-07T11:47:09.461271",
     "exception": false,
     "start_time": "2025-10-07T11:47:09.451411",
     "status": "completed"
    },
    "tags": []
   },
   "source": [
    "# [`pd.loc`](https://pandas.pydata.org/pandas-docs/stable/reference/api/pandas.DataFrame.loc.html) and [`pd.iloc`](https://pandas.pydata.org/pandas-docs/stable/reference/api/pandas.DataFrame.iloc.html) functions\n",
    "\n",
    "Pandas offers additional ways to select rows and columns:\n",
    "\n",
    "- [`pd.loc`](https://pandas.pydata.org/pandas-docs/stable/reference/api/pandas.DataFrame.loc.html): allows you to select rows and columns by the index value.\n",
    "- [`pd.iloc`](https://pandas.pydata.org/pandas-docs/stable/reference/api/pandas.DataFrame.iloc.html): allows you to select rows and columns by the integer position. It is actually deprecated.\n",
    "\n",
    "You can access the second row by either using the index value `'b'` (and function `.loc`) or by integer position 1 (and function `.iloc`) as in the following example."
   ]
  },
  {
   "cell_type": "code",
   "execution_count": 38,
   "id": "062c14b6",
   "metadata": {
    "execution": {
     "iopub.execute_input": "2025-10-07T11:47:09.482079Z",
     "iopub.status.busy": "2025-10-07T11:47:09.481491Z",
     "iopub.status.idle": "2025-10-07T11:47:09.486526Z",
     "shell.execute_reply": "2025-10-07T11:47:09.485865Z"
    },
    "papermill": {
     "duration": 0.016427,
     "end_time": "2025-10-07T11:47:09.487550",
     "exception": false,
     "start_time": "2025-10-07T11:47:09.471123",
     "status": "completed"
    },
    "tags": []
   },
   "outputs": [
    {
     "data": {
      "text/plain": [
       "Name                  Bob\n",
       "Department             IT\n",
       "Salary              60000\n",
       "Years_at_Company        5\n",
       "Name: b, dtype: object"
      ]
     },
     "execution_count": 38,
     "metadata": {},
     "output_type": "execute_result"
    }
   ],
   "source": [
    "df.loc['b']"
   ]
  },
  {
   "cell_type": "code",
   "execution_count": 39,
   "id": "23eeb246",
   "metadata": {
    "execution": {
     "iopub.execute_input": "2025-10-07T11:47:09.508133Z",
     "iopub.status.busy": "2025-10-07T11:47:09.507945Z",
     "iopub.status.idle": "2025-10-07T11:47:09.512959Z",
     "shell.execute_reply": "2025-10-07T11:47:09.512286Z"
    },
    "papermill": {
     "duration": 0.016701,
     "end_time": "2025-10-07T11:47:09.514105",
     "exception": false,
     "start_time": "2025-10-07T11:47:09.497404",
     "status": "completed"
    },
    "tags": []
   },
   "outputs": [
    {
     "data": {
      "text/plain": [
       "Name                  Bob\n",
       "Department             IT\n",
       "Salary              60000\n",
       "Years_at_Company        5\n",
       "Name: b, dtype: object"
      ]
     },
     "execution_count": 39,
     "metadata": {},
     "output_type": "execute_result"
    }
   ],
   "source": [
    "df.iloc[1]"
   ]
  },
  {
   "cell_type": "markdown",
   "id": "34145135",
   "metadata": {
    "papermill": {
     "duration": 0.010006,
     "end_time": "2025-10-07T11:47:09.534123",
     "exception": false,
     "start_time": "2025-10-07T11:47:09.524117",
     "status": "completed"
    },
    "tags": []
   },
   "source": [
    "If you read more carefully the documentation of the two functions, you will see that, indeed, both [`pd.loc`](https://pandas.pydata.org/pandas-docs/stable/reference/api/pandas.DataFrame.loc.html) and [`pd.iloc`](https://pandas.pydata.org/pandas-docs/stable/reference/api/pandas.DataFrame.iloc.html) allow more flexibility like selecting intervals, arrays of booleans and so on."
   ]
  },
  {
   "cell_type": "markdown",
   "id": "24dc8e2c",
   "metadata": {
    "papermill": {
     "duration": 0.010217,
     "end_time": "2025-10-07T11:47:09.554698",
     "exception": false,
     "start_time": "2025-10-07T11:47:09.544481",
     "status": "completed"
    },
    "tags": []
   },
   "source": [
    "## Apply functions"
   ]
  },
  {
   "cell_type": "markdown",
   "id": "4c95cb07",
   "metadata": {
    "papermill": {
     "duration": 0.009996,
     "end_time": "2025-10-07T11:47:09.574779",
     "exception": false,
     "start_time": "2025-10-07T11:47:09.564783",
     "status": "completed"
    },
    "tags": []
   },
   "source": [
    "Anothe common feature of pandas, is applying functions element-wise to columns: see below for an example."
   ]
  },
  {
   "cell_type": "code",
   "execution_count": 40,
   "id": "c6698959",
   "metadata": {
    "execution": {
     "iopub.execute_input": "2025-10-07T11:47:09.596953Z",
     "iopub.status.busy": "2025-10-07T11:47:09.596741Z",
     "iopub.status.idle": "2025-10-07T11:47:09.601467Z",
     "shell.execute_reply": "2025-10-07T11:47:09.600963Z"
    },
    "papermill": {
     "duration": 0.017517,
     "end_time": "2025-10-07T11:47:09.602444",
     "exception": false,
     "start_time": "2025-10-07T11:47:09.584927",
     "status": "completed"
    },
    "tags": []
   },
   "outputs": [
    {
     "data": {
      "text/plain": [
       "a    100000\n",
       "b    120000\n",
       "c    110000\n",
       "d    130000\n",
       "e    104000\n",
       "Name: Salary, dtype: int64"
      ]
     },
     "execution_count": 40,
     "metadata": {},
     "output_type": "execute_result"
    }
   ],
   "source": [
    "# Double every salary:\n",
    "df['Salary'].apply(lambda x: x * 2)"
   ]
  },
  {
   "cell_type": "markdown",
   "id": "017d719f",
   "metadata": {
    "papermill": {
     "duration": 0.010108,
     "end_time": "2025-10-07T11:47:09.623578",
     "exception": false,
     "start_time": "2025-10-07T11:47:09.613470",
     "status": "completed"
    },
    "tags": []
   },
   "source": [
    "What is [`lambda`](https://www.w3schools.com/python/python_lambda.asp) above?"
   ]
  },
  {
   "cell_type": "markdown",
   "id": "8439e872",
   "metadata": {
    "papermill": {
     "duration": 0.010568,
     "end_time": "2025-10-07T11:47:09.644417",
     "exception": false,
     "start_time": "2025-10-07T11:47:09.633849",
     "status": "completed"
    },
    "tags": []
   },
   "source": [
    "As a final exercise, write a query for the names of the employees with a salary above 51000 and below 56000 using the `.apply` operator."
   ]
  },
  {
   "cell_type": "code",
   "execution_count": 41,
   "id": "df0208a7",
   "metadata": {
    "execution": {
     "iopub.execute_input": "2025-10-07T11:47:09.667927Z",
     "iopub.status.busy": "2025-10-07T11:47:09.667732Z",
     "iopub.status.idle": "2025-10-07T11:47:09.674005Z",
     "shell.execute_reply": "2025-10-07T11:47:09.673327Z"
    },
    "papermill": {
     "duration": 0.018966,
     "end_time": "2025-10-07T11:47:09.675070",
     "exception": false,
     "start_time": "2025-10-07T11:47:09.656104",
     "status": "completed"
    },
    "tags": []
   },
   "outputs": [
    {
     "data": {
      "text/html": [
       "<div>\n",
       "<style scoped>\n",
       "    .dataframe tbody tr th:only-of-type {\n",
       "        vertical-align: middle;\n",
       "    }\n",
       "\n",
       "    .dataframe tbody tr th {\n",
       "        vertical-align: top;\n",
       "    }\n",
       "\n",
       "    .dataframe thead th {\n",
       "        text-align: right;\n",
       "    }\n",
       "</style>\n",
       "<table border=\"1\" class=\"dataframe\">\n",
       "  <thead>\n",
       "    <tr style=\"text-align: right;\">\n",
       "      <th></th>\n",
       "      <th>Name</th>\n",
       "      <th>Department</th>\n",
       "      <th>Salary</th>\n",
       "      <th>Years_at_Company</th>\n",
       "    </tr>\n",
       "  </thead>\n",
       "  <tbody>\n",
       "    <tr>\n",
       "      <th>a</th>\n",
       "      <td>Alice</td>\n",
       "      <td>HR</td>\n",
       "      <td>50000</td>\n",
       "      <td>2</td>\n",
       "    </tr>\n",
       "    <tr>\n",
       "      <th>b</th>\n",
       "      <td>Bob</td>\n",
       "      <td>IT</td>\n",
       "      <td>60000</td>\n",
       "      <td>5</td>\n",
       "    </tr>\n",
       "    <tr>\n",
       "      <th>c</th>\n",
       "      <td>Charlie</td>\n",
       "      <td>Finance</td>\n",
       "      <td>55000</td>\n",
       "      <td>3</td>\n",
       "    </tr>\n",
       "    <tr>\n",
       "      <th>d</th>\n",
       "      <td>Diana</td>\n",
       "      <td>IT</td>\n",
       "      <td>65000</td>\n",
       "      <td>7</td>\n",
       "    </tr>\n",
       "    <tr>\n",
       "      <th>e</th>\n",
       "      <td>Ethan</td>\n",
       "      <td>HR</td>\n",
       "      <td>52000</td>\n",
       "      <td>1</td>\n",
       "    </tr>\n",
       "  </tbody>\n",
       "</table>\n",
       "</div>"
      ],
      "text/plain": [
       "      Name Department  Salary  Years_at_Company\n",
       "a    Alice         HR   50000                 2\n",
       "b      Bob         IT   60000                 5\n",
       "c  Charlie    Finance   55000                 3\n",
       "d    Diana         IT   65000                 7\n",
       "e    Ethan         HR   52000                 1"
      ]
     },
     "execution_count": 41,
     "metadata": {},
     "output_type": "execute_result"
    }
   ],
   "source": [
    "# Write a query to select the names of the people that earn a salary between 51000 and 56000. Use the .apply() operator.\n",
    "df\n"
   ]
  }
 ],
 "metadata": {
  "kaggle": {
   "accelerator": "nvidiaTeslaT4",
   "dataSources": [],
   "dockerImageVersionId": 31153,
   "isGpuEnabled": true,
   "isInternetEnabled": true,
   "language": "python",
   "sourceType": "notebook"
  },
  "kernelspec": {
   "display_name": "Python 3",
   "language": "python",
   "name": "python3"
  },
  "language_info": {
   "codemirror_mode": {
    "name": "ipython",
    "version": 3
   },
   "file_extension": ".py",
   "mimetype": "text/x-python",
   "name": "python",
   "nbconvert_exporter": "python",
   "pygments_lexer": "ipython3",
   "version": "3.11.13"
  },
  "papermill": {
   "default_parameters": {},
   "duration": 43.561437,
   "end_time": "2025-10-07T11:47:10.904214",
   "environment_variables": {},
   "exception": null,
   "input_path": "__notebook__.ipynb",
   "output_path": "__notebook__.ipynb",
   "parameters": {},
   "start_time": "2025-10-07T11:46:27.342777",
   "version": "2.6.0"
  }
 },
 "nbformat": 4,
 "nbformat_minor": 5
}
