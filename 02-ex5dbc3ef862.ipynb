{
 "cells": [
  {
   "cell_type": "markdown",
   "id": "5fc5c15d",
   "metadata": {
    "papermill": {
     "duration": 0.01029,
     "end_time": "2025-10-07T13:24:21.201700",
     "exception": false,
     "start_time": "2025-10-07T13:24:21.191410",
     "status": "completed"
    },
    "tags": []
   },
   "source": [
    "# Exercise 2\n",
    "## Authors: E. Vercesi; A. Dei Rossi, S. Huber*, L. Scarciglia.\n",
    "\n",
    "In this exercise session you are going to learn the basics of PyTorch and pandas. We will start with PyTorch.\n",
    "\n",
    "[PyTorch](https://pytorch.org/) is a Python library for scientific computing (as much as NumPy), but which can additionally run on GPUs. \n",
    "Hence, this is the computing library of choice for Deep Learning applications. \n",
    "PyTorch is developed by Meta. You might have also heard of its main competitor TensorFlow (Google). Although both have basically the same functionalities, in this course we would like you to stick to PyTorch (assignments made using TensorFlow won't be evaluated).\n",
    "\n",
    "If you haven't done Exercise 1 on NumPy yet, we highly encourage to do it first: NumPy and PyTorch offer a vast overlap of functionalities, so understanding NumPy first is going to boost greatly your understanding of PyTorch.\n",
    "To begin with, make sure you have installed it. If not, please do so (by typing `conda/pip install torch` from your environment, or using the GUI of your IDE). Also make sure that the version installed is 2.8.\n",
    "\n",
    "In addition to that, also install [pandas](https://pandas.pydata.org/docs/getting_started/install.html). We will use it at the end of the notebook."
   ]
  },
  {
   "cell_type": "code",
   "execution_count": 1,
   "id": "dcc78053",
   "metadata": {
    "ExecuteTime": {
     "end_time": "2024-09-18T19:31:50.547971Z",
     "start_time": "2024-09-18T19:31:50.545559Z"
    },
    "editable": true,
    "execution": {
     "iopub.execute_input": "2025-10-07T13:24:21.220016Z",
     "iopub.status.busy": "2025-10-07T13:24:21.219812Z",
     "iopub.status.idle": "2025-10-07T13:24:24.800135Z",
     "shell.execute_reply": "2025-10-07T13:24:24.799331Z"
    },
    "papermill": {
     "duration": 3.590663,
     "end_time": "2025-10-07T13:24:24.801328",
     "exception": false,
     "start_time": "2025-10-07T13:24:21.210665",
     "status": "completed"
    },
    "slideshow": {
     "slide_type": ""
    },
    "tags": []
   },
   "outputs": [
    {
     "data": {
      "text/plain": [
       "<torch._C.Generator at 0x7f789fc53210>"
      ]
     },
     "execution_count": 1,
     "metadata": {},
     "output_type": "execute_result"
    }
   ],
   "source": [
    "import torch  # If you see errors, use conda or pip to install torch in your virtual environment.\n",
    "import numpy as np\n",
    "\n",
    "torch.manual_seed(42)  # manual seed is to ensure repeatability of random numbers. "
   ]
  },
  {
   "cell_type": "markdown",
   "id": "e5cc36bf",
   "metadata": {
    "papermill": {
     "duration": 0.0098,
     "end_time": "2025-10-07T13:24:24.820635",
     "exception": false,
     "start_time": "2025-10-07T13:24:24.810835",
     "status": "completed"
    },
    "tags": []
   },
   "source": [
    "## Create tensors\n",
    "\n",
    "Tensors are like NumPy arrays, but they can live in GPUs.\n",
    "\n",
    "1. Create a tensor out of a Python list [1, 2, 3].\n",
    "2. Create a tensor out of a NumPy array [[2, 3, 4], [4, 3, 2]] (see method [`.from_numpy()`](https://pytorch.org/docs/stable/generated/torch.from_numpy.html)).\n",
    "3. Convert the tensor of point 2 back to a NumPy array. (see method [`.numpy()`](https://pytorch.org/docs/stable/generated/torch.Tensor.numpy.html))."
   ]
  },
  {
   "cell_type": "code",
   "execution_count": 2,
   "id": "3c82dff4",
   "metadata": {
    "ExecuteTime": {
     "end_time": "2024-09-18T19:44:01.942448Z",
     "start_time": "2024-09-18T19:44:01.939947Z"
    },
    "execution": {
     "iopub.execute_input": "2025-10-07T13:24:24.839690Z",
     "iopub.status.busy": "2025-10-07T13:24:24.839338Z",
     "iopub.status.idle": "2025-10-07T13:24:24.880604Z",
     "shell.execute_reply": "2025-10-07T13:24:24.879742Z"
    },
    "papermill": {
     "duration": 0.051853,
     "end_time": "2025-10-07T13:24:24.881655",
     "exception": false,
     "start_time": "2025-10-07T13:24:24.829802",
     "status": "completed"
    },
    "tags": []
   },
   "outputs": [
    {
     "name": "stdout",
     "output_type": "stream",
     "text": [
      "tensor([1, 2, 3])\n",
      "tensor([[2, 3, 4],\n",
      "        [4, 3, 2]])\n",
      "[[2 3 4]\n",
      " [4 3 2]]\n"
     ]
    }
   ],
   "source": [
    "## 1: create a tensor out of a Python list\n",
    "list1 = [1,2,3]\n",
    "tensor1 = torch.tensor(list1)\n",
    "print (tensor1)\n",
    "\n",
    "## 2: create a tensor out of a NumPy array\n",
    "arr1 = np.array ([[2,3,4],[4,3,2]])\n",
    "tensor2 = torch.from_numpy(arr1)\n",
    "print (tensor2)\n",
    "\n",
    "## 3: Convert the tensor back to NumPy.\n",
    "t= torch.tensor ([[2,3,4], [4,3,2]])\n",
    "arr2 = t.numpy ()\n",
    "print (arr2)"
   ]
  },
  {
   "cell_type": "markdown",
   "id": "960ecb4b",
   "metadata": {
    "papermill": {
     "duration": 0.008686,
     "end_time": "2025-10-07T13:24:24.899194",
     "exception": false,
     "start_time": "2025-10-07T13:24:24.890508",
     "status": "completed"
    },
    "tags": []
   },
   "source": [
    "1. Check the `.dtype` attribute of the above created tensors. \n",
    "2. Create a tensor of size 3 with values [1, 2, 3] but forcing the dtype to be float64."
   ]
  },
  {
   "cell_type": "markdown",
   "id": "3c7ed7bb",
   "metadata": {
    "papermill": {
     "duration": 0.00872,
     "end_time": "2025-10-07T13:24:24.916730",
     "exception": false,
     "start_time": "2025-10-07T13:24:24.908010",
     "status": "completed"
    },
    "tags": []
   },
   "source": []
  },
  {
   "cell_type": "code",
   "execution_count": 3,
   "id": "a1945d93",
   "metadata": {
    "ExecuteTime": {
     "end_time": "2024-09-18T19:45:12.850223Z",
     "start_time": "2024-09-18T19:45:12.847542Z"
    },
    "execution": {
     "iopub.execute_input": "2025-10-07T13:24:24.935544Z",
     "iopub.status.busy": "2025-10-07T13:24:24.934859Z",
     "iopub.status.idle": "2025-10-07T13:24:24.939496Z",
     "shell.execute_reply": "2025-10-07T13:24:24.938725Z"
    },
    "papermill": {
     "duration": 0.015179,
     "end_time": "2025-10-07T13:24:24.940701",
     "exception": false,
     "start_time": "2025-10-07T13:24:24.925522",
     "status": "completed"
    },
    "tags": []
   },
   "outputs": [
    {
     "name": "stdout",
     "output_type": "stream",
     "text": [
      "1:  torch.int64\n",
      "2:  torch.int64\n",
      "3:  int64\n",
      "4:  torch.float64\n"
     ]
    }
   ],
   "source": [
    "## 1: check the dtype attribute\n",
    "print(\"1: \", tensor1.dtype)\n",
    "print(\"2: \", tensor2.dtype)\n",
    "print(\"3: \", arr2.dtype)\n",
    "\n",
    "## 2: create [1, 2, 3] with dtype float64\n",
    "t2 = torch.tensor ([1,2,3] , dtype=torch.float64)\n",
    "print(\"4: \", t2.dtype)"
   ]
  },
  {
   "cell_type": "markdown",
   "id": "38c8f149",
   "metadata": {
    "papermill": {
     "duration": 0.008652,
     "end_time": "2025-10-07T13:24:24.958198",
     "exception": false,
     "start_time": "2025-10-07T13:24:24.949546",
     "status": "completed"
    },
    "tags": []
   },
   "source": [
    "##### PyTorch also offers some more advanced functions that can be used to create well-known matrices:\n",
    "\n",
    "1. Create an identity matrix of size (5, 5) (see [`torch.eye()`](https://pytorch.org/docs/stable/generated/torch.eye.html)).\n",
    "2. Create a matrix of all zeros of size (3, 4) (see [`torch.zeros()`](https://pytorch.org/docs/stable/generated/torch.zeros.html).\n",
    "3. Create a matrix of all ones of size (2, 3) (see [`torch.ones()`](https://pytorch.org/docs/stable/generated/torch.ones.html).\n",
    "4. Given a tensor of size (3, 2) of your choice, create a matrix of the same size (3, 2) filled with ones (equivalently zeros) (see [`torch.zeros_like()`](https://pytorch.org/docs/stable/generated/torch.zeros_like.html).\n",
    "5. Create a matrix of size (3, 4) filled with numbers from 0 to 11 inclusive (same as in NumPy). Try both [`torch.arange()`](https://pytorch.org/docs/stable/generated/torch.arange.html) and [`torch.linspace()`](https://pytorch.org/docs/stable/generated/torch.linspace.html)."
   ]
  },
  {
   "cell_type": "code",
   "execution_count": 4,
   "id": "63f8e908",
   "metadata": {
    "ExecuteTime": {
     "end_time": "2024-09-18T19:56:37.567665Z",
     "start_time": "2024-09-18T19:56:37.564862Z"
    },
    "execution": {
     "iopub.execute_input": "2025-10-07T13:24:24.976717Z",
     "iopub.status.busy": "2025-10-07T13:24:24.976517Z",
     "iopub.status.idle": "2025-10-07T13:24:25.037807Z",
     "shell.execute_reply": "2025-10-07T13:24:25.037144Z"
    },
    "papermill": {
     "duration": 0.071843,
     "end_time": "2025-10-07T13:24:25.038891",
     "exception": false,
     "start_time": "2025-10-07T13:24:24.967048",
     "status": "completed"
    },
    "tags": []
   },
   "outputs": [
    {
     "name": "stdout",
     "output_type": "stream",
     "text": [
      "m1:\n",
      " tensor([[1., 0., 0., 0., 0.],\n",
      "        [0., 1., 0., 0., 0.],\n",
      "        [0., 0., 1., 0., 0.],\n",
      "        [0., 0., 0., 1., 0.],\n",
      "        [0., 0., 0., 0., 1.]])\n",
      "m2: \n",
      " tensor([[0., 0., 0., 0.],\n",
      "        [0., 0., 0., 0.],\n",
      "        [0., 0., 0., 0.]])\n",
      "m3: \n",
      " tensor([[1., 1., 1.],\n",
      "        [1., 1., 1.]])\n",
      "m4: \n",
      " tensor([[0, 0],\n",
      "        [0, 0],\n",
      "        [0, 0]])\n",
      "m5: \n",
      " tensor([[0, 1, 2],\n",
      "        [3, 4, 5]])\n",
      "m6: \n",
      ": tensor([[0.0000, 1.2000, 2.4000],\n",
      "        [3.6000, 4.8000, 6.0000]])\n"
     ]
    }
   ],
   "source": [
    "## 1: torch.eye()\n",
    "m1= torch.eye(5)\n",
    "print(\"m1:\\n\", m1)\n",
    "\n",
    "## 2: torch.zeros()\n",
    "m2 = torch.zeros(3,4)\n",
    "print(\"m2: \\n\", m2)\n",
    "\n",
    "## 3: torch.ones()\n",
    "m3 = torch.ones(2,3)\n",
    "print(\"m3: \\n\", m3)\n",
    "\n",
    "## 4: torch.zeros_like()\n",
    "t3= torch.tensor ([[1,2],[2,3],[3,4]])\n",
    "m4= torch.zeros_like(t3)\n",
    "print(\"m4: \\n\", m4)\n",
    "## 5:\n",
    "## torch.arange()\n",
    "t4=torch.arange (0,6)\n",
    "m5=t4.reshape (2,3)     #funzione per cambiare forma perche torch.arange restituisce uno di dimensione 1d\n",
    "print (\"m5: \\n\", m5)\n",
    "\n",
    "## torch.linspace()\n",
    "t5=torch.linspace(0,6 , steps=6)\n",
    "m6=t5.reshape (2,3)\n",
    "print (\"m6: \\n:\", m6)"
   ]
  },
  {
   "cell_type": "markdown",
   "id": "cfc6b5af",
   "metadata": {
    "papermill": {
     "duration": 0.009019,
     "end_time": "2025-10-07T13:24:25.057054",
     "exception": false,
     "start_time": "2025-10-07T13:24:25.048035",
     "status": "completed"
    },
    "tags": []
   },
   "source": [
    "#### Random tensors\n",
    "\n",
    "As in NumPy, you have a big choice of random distributions to sample you arrays from.\n",
    "Create the same random arrays you did in NumPy in Exercise 1:\n",
    "1) Create a random tensor of size 4 of uniform floating point numbers in the interval [0, 1). (see [`torch.rand`](https://pytorch.org/docs/stable/generated/torch.rand.html)).\n",
    "torch rand ti mette gia numeri copresi tra 0 e 1 \n",
    "\n",
    "2) Create a random tensor of size (3, 2) of uniform floating point numbers in the interval [0, 5). (hint: generate numbers in the interval [0, 1) and scale them up by 5).\n",
    "3) Create a random tensor of size (2, 1, 2) of integers in the interval [10, 20]. (see [`torch.randint`](https://pytorch.org/docs/stable/generated/torch.randint.html), caraful with border conditions).\n",
    "4) Create a random tensor of size 10 over the normal distribution, mean 3 and std dev 2. (see [`torch.normal`](https://pytorch.org/docs/stable/generated/torch.normal.html))."
   ]
  },
  {
   "cell_type": "code",
   "execution_count": 5,
   "id": "8c55590c",
   "metadata": {
    "ExecuteTime": {
     "end_time": "2024-09-18T20:29:56.713417Z",
     "start_time": "2024-09-18T20:29:56.707816Z"
    },
    "execution": {
     "iopub.execute_input": "2025-10-07T13:24:25.075585Z",
     "iopub.status.busy": "2025-10-07T13:24:25.075338Z",
     "iopub.status.idle": "2025-10-07T13:24:25.083750Z",
     "shell.execute_reply": "2025-10-07T13:24:25.083021Z"
    },
    "papermill": {
     "duration": 0.01896,
     "end_time": "2025-10-07T13:24:25.084862",
     "exception": false,
     "start_time": "2025-10-07T13:24:25.065902",
     "status": "completed"
    },
    "tags": []
   },
   "outputs": [
    {
     "name": "stdout",
     "output_type": "stream",
     "text": [
      "t6:\n",
      " tensor([0.8823, 0.9150, 0.3829, 0.9593])\n",
      "m7: \n",
      " tensor([[1.9522, 3.0045],\n",
      "        [1.2829, 3.9682],\n",
      "        [4.7039, 0.6659]])\n",
      "m8: \n",
      " tensor([[[18, 14]],\n",
      "\n",
      "        [[10, 14]]])\n",
      "t7:\n",
      " tensor([3.7531, 2.6384, 3.7861, 3.8654, 0.2746, 5.7129, 4.3376, 1.5846, 2.3466,\n",
      "        2.4424])\n"
     ]
    }
   ],
   "source": [
    "## 1: torch.rand()\n",
    "t6 = torch.rand(4)\n",
    "print (\"t6:\\n\", t6)\n",
    "\n",
    "## 2: torch.rand() scaled up to [0, 5)\n",
    "m7 = torch.rand (3,2)\n",
    "m7=m7*5\n",
    "print (\"m7: \\n\", m7)\n",
    "\n",
    "## 3: torch.randint()\n",
    "m8= torch.randint(10,20,(2,1,2))\n",
    "print (\"m8: \\n\", m8)\n",
    "\n",
    "## 4: torch.normal()\n",
    "t7 = torch.normal(mean=3.0, std=2.0, size=(10,))\n",
    "print(\"t7:\\n\", t7)\n"
   ]
  },
  {
   "cell_type": "markdown",
   "id": "05eb504a",
   "metadata": {
    "papermill": {
     "duration": 0.009024,
     "end_time": "2025-10-07T13:24:25.103946",
     "exception": false,
     "start_time": "2025-10-07T13:24:25.094922",
     "status": "completed"
    },
    "tags": []
   },
   "source": [
    "## Working with tensors' dimensions\n",
    "\n",
    "In this section we will learn how to manipulate tensor's dimensions. Notice that they are extremely similar to NumPy methods: hence, if you have done exercise 1, this section should be quite straightforward.\n",
    "\n",
    "### Access elements and slicing \n",
    "\n",
    "Create an identity matrix of size (4, 4) and access \n",
    "1. The element in position [0, 0].\n",
    "2. The last element.\n",
    "3. Element in position [2, 3].\n",
    "Check that the returned elements are what you expect."
   ]
  },
  {
   "cell_type": "code",
   "execution_count": 6,
   "id": "1fe4b976",
   "metadata": {
    "ExecuteTime": {
     "end_time": "2024-09-19T06:54:09.454500Z",
     "start_time": "2024-09-19T06:54:09.451717Z"
    },
    "execution": {
     "iopub.execute_input": "2025-10-07T13:24:25.122572Z",
     "iopub.status.busy": "2025-10-07T13:24:25.122322Z",
     "iopub.status.idle": "2025-10-07T13:24:25.127445Z",
     "shell.execute_reply": "2025-10-07T13:24:25.126854Z"
    },
    "papermill": {
     "duration": 0.015565,
     "end_time": "2025-10-07T13:24:25.128470",
     "exception": false,
     "start_time": "2025-10-07T13:24:25.112905",
     "status": "completed"
    },
    "tags": []
   },
   "outputs": [
    {
     "name": "stdout",
     "output_type": "stream",
     "text": [
      "elemento 0,0:  tensor(1.)\n",
      "elemento 0,0:  tensor(1.)\n",
      "elemento 0,0:  tensor(0.)\n"
     ]
    }
   ],
   "source": [
    "# Create the identity matrix\n",
    "m9 = torch.eye(4)\n",
    "\n",
    "## 1: access element in [0, 0]\n",
    "print(\"elemento 0,0: \", m9[0][0])\n",
    "## 2: access element in [3, 3]\n",
    "print(\"elemento 0,0: \", m9[3][3])\n",
    "## 3: access element in [2, 3]\n",
    "print(\"elemento 0,0: \", m9[2][3])"
   ]
  },
  {
   "cell_type": "markdown",
   "id": "fc6518e3",
   "metadata": {
    "papermill": {
     "duration": 0.008896,
     "end_time": "2025-10-07T13:24:25.146239",
     "exception": false,
     "start_time": "2025-10-07T13:24:25.137343",
     "status": "completed"
    },
    "tags": []
   },
   "source": [
    "### Slicing\n",
    "\n",
    "1. Create a random tensor of size (3, 4) of integers in the interval [5, 10].\n",
    "2. Print the second row.\n",
    "3. Print the third column.\n",
    "4. Print the sub-matrix spanning from the second to the third row, from the second to the third column."
   ]
  },
  {
   "cell_type": "code",
   "execution_count": 7,
   "id": "74981906",
   "metadata": {
    "execution": {
     "iopub.execute_input": "2025-10-07T13:24:25.164900Z",
     "iopub.status.busy": "2025-10-07T13:24:25.164712Z",
     "iopub.status.idle": "2025-10-07T13:24:25.176381Z",
     "shell.execute_reply": "2025-10-07T13:24:25.175823Z"
    },
    "papermill": {
     "duration": 0.022344,
     "end_time": "2025-10-07T13:24:25.177430",
     "exception": false,
     "start_time": "2025-10-07T13:24:25.155086",
     "status": "completed"
    },
    "tags": []
   },
   "outputs": [
    {
     "name": "stdout",
     "output_type": "stream",
     "text": [
      "seconda riga:  tensor([7, 9, 7, 8])\n",
      "terza colonna:  tensor([6, 7, 8])\n",
      "sub-matrix:  tensor([[5, 6],\n",
      "        [9, 7]])\n"
     ]
    }
   ],
   "source": [
    "## 1: create a random tensor of size [3, 4].\n",
    "mm1=torch.randint(5,10, (3,4))\n",
    "## 2: print the second row.\n",
    "print (\"seconda riga: \", mm1[2,:])\n",
    "## 3: print the third column.\n",
    "print (\"terza colonna: \", mm1[:,3])\n",
    "## 4: sub-matrix\n",
    "print(\"sub-matrix: \", mm1[1:3,1:3])"
   ]
  },
  {
   "cell_type": "markdown",
   "id": "5374a13f",
   "metadata": {
    "papermill": {
     "duration": 0.008887,
     "end_time": "2025-10-07T13:24:25.195218",
     "exception": false,
     "start_time": "2025-10-07T13:24:25.186331",
     "status": "completed"
    },
    "tags": []
   },
   "source": [
    "### Access tensors' dimensions\n",
    "\n",
    "1. Create a tensor $v$ of size (3, 4, 2, 4, 1) of random floats in [0, 1).\n",
    "2. Print its shape. You can use both `.shape` and [`.size()`](https://docs.pytorch.org/docs/stable/generated/torch.Tensor.size.html), try them both.\n",
    "3. Print its third dimension's size (2 in our example). Check [`.size()`](https://docs.pytorch.org/docs/stable/generated/torch.Tensor.size.html) function.\n",
    "4. Print the number of dimensions of our vector (5 in our example). Check [`.dim()`](https://docs.pytorch.org/docs/stable/generated/torch.Tensor.dim.html#torch.Tensor.dim) or [`.ndim`](https://docs.pytorch.org/docs/stable/generated/torch.Tensor.dim.html#torch.Tensor.ndim)."
   ]
  },
  {
   "cell_type": "code",
   "execution_count": 8,
   "id": "3612f675",
   "metadata": {
    "execution": {
     "iopub.execute_input": "2025-10-07T13:24:25.214313Z",
     "iopub.status.busy": "2025-10-07T13:24:25.214134Z",
     "iopub.status.idle": "2025-10-07T13:24:25.216901Z",
     "shell.execute_reply": "2025-10-07T13:24:25.216412Z"
    },
    "papermill": {
     "duration": 0.013348,
     "end_time": "2025-10-07T13:24:25.217913",
     "exception": false,
     "start_time": "2025-10-07T13:24:25.204565",
     "status": "completed"
    },
    "tags": []
   },
   "outputs": [],
   "source": [
    "## 1: create a random tensor v of size (3, 4, 2, 4, 1).\n",
    "\n",
    "## 2: print v's shape using .shape and .size().\n",
    "\n",
    "## 3: print the size of the third dimension of v.\n",
    "\n",
    "## 4: print the number of dimensions of v."
   ]
  },
  {
   "cell_type": "markdown",
   "id": "7b658361",
   "metadata": {
    "papermill": {
     "duration": 0.008821,
     "end_time": "2025-10-07T13:24:25.235785",
     "exception": false,
     "start_time": "2025-10-07T13:24:25.226964",
     "status": "completed"
    },
    "tags": []
   },
   "source": [
    "## Permute dimensions\n",
    "\n",
    "You can invert the order of the dimensions of a tensor. Create a random tensor of integers in the interval [0, 10) of size (2, 3, 4) and permute its dimensions so that the final size is (4, 2, 3). See [`torch.permute`](https://pytorch.org/docs/stable/generated/torch.permute.html)."
   ]
  },
  {
   "cell_type": "code",
   "execution_count": 9,
   "id": "994730d8",
   "metadata": {
    "ExecuteTime": {
     "end_time": "2024-09-19T07:01:03.982170Z",
     "start_time": "2024-09-19T07:01:03.979816Z"
    },
    "execution": {
     "iopub.execute_input": "2025-10-07T13:24:25.254580Z",
     "iopub.status.busy": "2025-10-07T13:24:25.254056Z",
     "iopub.status.idle": "2025-10-07T13:24:25.257040Z",
     "shell.execute_reply": "2025-10-07T13:24:25.256343Z"
    },
    "papermill": {
     "duration": 0.013422,
     "end_time": "2025-10-07T13:24:25.258066",
     "exception": false,
     "start_time": "2025-10-07T13:24:25.244644",
     "status": "completed"
    },
    "tags": []
   },
   "outputs": [],
   "source": [
    "## 1: Create a random tensor. Check its shape (2, 3, 4)\n",
    "\n",
    "## 2: Permute its dimensions. Check its shape (4, 2, 3)\n"
   ]
  },
  {
   "cell_type": "markdown",
   "id": "bbeb83fd",
   "metadata": {
    "papermill": {
     "duration": 0.008986,
     "end_time": "2025-10-07T13:24:25.276233",
     "exception": false,
     "start_time": "2025-10-07T13:24:25.267247",
     "status": "completed"
    },
    "tags": []
   },
   "source": [
    "## Squeeze/unsqueeze\n",
    "\n",
    "If you want increase the number of dimensions of your vector (similar to `np.newaxis`, this might turn useful in the context of broadcasting), you can use [`torch.unsqueeze`](https://pytorch.org/docs/stable/generated/torch.unsqueeze.html). If you want to reduce the number of dimensions of your vector by dropping dimensions of size 1 you can use [`torch.squeeze`](https://pytorch.org/docs/stable/generated/torch.squeeze.html) instead.\n",
    "\n",
    "1. Create a random tensor uniform in [0, 1) of size (2, 2). Insert a new dimension so that the final shape is (2, 1, 2).\n",
    "2. Add a dimension to the tensor of point 1, so that the final shape is (2, 1, 2, 1). Try to use negative indices as the argument of `torch.unsqueeze()`.\n",
    "3. Turn the tensor back to its original shape (2, 2) by using `torch.squeeze()`."
   ]
  },
  {
   "cell_type": "code",
   "execution_count": 10,
   "id": "75c8aaf9",
   "metadata": {
    "ExecuteTime": {
     "end_time": "2024-09-19T07:15:03.127711Z",
     "start_time": "2024-09-19T07:15:03.124690Z"
    },
    "execution": {
     "iopub.execute_input": "2025-10-07T13:24:25.295470Z",
     "iopub.status.busy": "2025-10-07T13:24:25.294925Z",
     "iopub.status.idle": "2025-10-07T13:24:25.297944Z",
     "shell.execute_reply": "2025-10-07T13:24:25.297243Z"
    },
    "papermill": {
     "duration": 0.013651,
     "end_time": "2025-10-07T13:24:25.298998",
     "exception": false,
     "start_time": "2025-10-07T13:24:25.285347",
     "status": "completed"
    },
    "tags": []
   },
   "outputs": [],
   "source": [
    "## 1: Create a tensor of size (2, 2). Unsqueeze it so that its final shape is (2, 1, 2)\n",
    "\n",
    "## 2: Add an additional dimension to the tensor so that its shape is (2, 1, 2, 1). Use negative indices\n",
    "\n",
    "## 3: Turn the tensor back to shape (2, 2)"
   ]
  },
  {
   "cell_type": "markdown",
   "id": "5416741b",
   "metadata": {
    "papermill": {
     "duration": 0.009103,
     "end_time": "2025-10-07T13:24:25.317406",
     "exception": false,
     "start_time": "2025-10-07T13:24:25.308303",
     "status": "completed"
    },
    "tags": []
   },
   "source": [
    "## Concatenate and stack\n",
    "\n",
    "If you have two tensors of compatible sizes, you can merge them into a unique tensor along one of their axes.\n",
    "In order to get some intuition, think about having 2 2-dimensional tensors of size (3, 4). You can merge them along the first axis and get the final shape be (6, 4), or you can merge them along the second axis and get the final shape to be (3, 8), or you can go in 3D stacking one over the other (along the z-axis) and get a shape of (2, 3, 4). \n",
    "\n",
    "This is precisely what [`torch.concat`](https://pytorch.org/docs/stable/generated/torch.cat.html#torch.cat) (also called `.cat`) and [`torch.stack`](https://pytorch.org/docs/stable/generated/torch.stack) do. \n",
    "You should already be familiar with NumPy `axis` attribute. In PyTorch it is called `dim`. If you try using `axis` instead of `dim`, PyTorch allows you to do so. Though it is not recommended, since it is not written in the official documentation.\n",
    "\n",
    "1. Concat $v$ and $w$ along the first dimension. Check that the final shape is (6, 4).\n",
    "2. Concat $v$ and $w$ along the second dimension. Check that the final shape is (3, 8).\n",
    "3. Concat $v$ and $w$ along a new dimension. Check that the final shape is (2, 3, 4)."
   ]
  },
  {
   "cell_type": "code",
   "execution_count": 11,
   "id": "16026a0e",
   "metadata": {
    "ExecuteTime": {
     "end_time": "2024-09-19T08:16:40.985443Z",
     "start_time": "2024-09-19T08:16:40.982553Z"
    },
    "execution": {
     "iopub.execute_input": "2025-10-07T13:24:25.336749Z",
     "iopub.status.busy": "2025-10-07T13:24:25.336564Z",
     "iopub.status.idle": "2025-10-07T13:24:25.340104Z",
     "shell.execute_reply": "2025-10-07T13:24:25.339617Z"
    },
    "papermill": {
     "duration": 0.014806,
     "end_time": "2025-10-07T13:24:25.341188",
     "exception": false,
     "start_time": "2025-10-07T13:24:25.326382",
     "status": "completed"
    },
    "tags": []
   },
   "outputs": [],
   "source": [
    "v = torch.randint(0, 10, (3,4))\n",
    "w = torch.randint(0, 10, (3,4))\n",
    "\n",
    "## 1: concat along first dimension.\n",
    "\n",
    "## 2: concat along second dimension.\n",
    "\n",
    "## 3: concat along new dimension.\n"
   ]
  },
  {
   "cell_type": "markdown",
   "id": "7e916959",
   "metadata": {
    "editable": true,
    "papermill": {
     "duration": 0.008898,
     "end_time": "2025-10-07T13:24:25.359200",
     "exception": false,
     "start_time": "2025-10-07T13:24:25.350302",
     "status": "completed"
    },
    "slideshow": {
     "slide_type": ""
    },
    "tags": []
   },
   "source": [
    "### Reshape and View\n",
    "\n",
    "PyTorch lets you reshape your tensors, by keeping the same data, but re-arranging its dimensions.\n",
    "\n",
    "Create a random vector of size (2, 3, 4), and make a new vector of size (6, 4) using [``torch.reshape``](https://docs.pytorch.org/docs/stable/generated/torch.Tensor.reshape.html) and [``torch.view``](https://www.geeksforgeeks.org/python/how-does-the-view-method-work-in-python-pytorch/).\n",
    "\n",
    "- `torch.reshape` works on all vectors, but it might be less efficient when working on contiguous data.\n",
    "- `torch.view` only works on contiguous data (see [``torch.is_contiguous``](https://docs.pytorch.org/docs/stable/generated/torch.Tensor.is_contiguous.html)), but it is more efficient.\n",
    "\n",
    "In general, ``torch.reshape`` is the safest option to use."
   ]
  },
  {
   "cell_type": "code",
   "execution_count": 12,
   "id": "022f8d81",
   "metadata": {
    "execution": {
     "iopub.execute_input": "2025-10-07T13:24:25.378075Z",
     "iopub.status.busy": "2025-10-07T13:24:25.377908Z",
     "iopub.status.idle": "2025-10-07T13:24:25.381183Z",
     "shell.execute_reply": "2025-10-07T13:24:25.380695Z"
    },
    "papermill": {
     "duration": 0.013977,
     "end_time": "2025-10-07T13:24:25.382178",
     "exception": false,
     "start_time": "2025-10-07T13:24:25.368201",
     "status": "completed"
    },
    "tags": []
   },
   "outputs": [],
   "source": [
    "## 1: create a random tensor of size (2, 3, 4)\n",
    "\n",
    "## 2: reshape it so that its size is (6, 4) using torch.reshape\n",
    "# Is v altered by reshape?\n",
    "\n",
    "## 3: reshape v so that its size is (6, 4) using torch.view\n",
    "# Is v altered by view?\n",
    "\n",
    "## 4: as a final step, try to make a tensor not contiguous: e.g., permuting its dimensions\n",
    "v = torch.rand(2, 3, 4)\n",
    "# Permute v's dimensions by using torch.permute, so that the final shape is (3, 2, 4). Do it inplace.\n",
    "\n",
    "# Make sure that v is not contiguous anymore.\n",
    "\n",
    "# print(v.view(6, 4)) would yield an error."
   ]
  },
  {
   "cell_type": "markdown",
   "id": "61efb156",
   "metadata": {
    "papermill": {
     "duration": 0.008735,
     "end_time": "2025-10-07T13:24:25.399893",
     "exception": false,
     "start_time": "2025-10-07T13:24:25.391158",
     "status": "completed"
    },
    "tags": []
   },
   "source": [
    "## Broadcasting\n",
    "\n",
    "Same as in NumPy, also PyTorch tensors allow [broadcasting](https://pytorch.org/docs/stable/notes/broadcasting.html).\n",
    "When performing element-wise operations (like sums) on two tensors of mismatching sizes, the smaller tensor can adapt to the size of the larger tensor in case these simple rules apply:\n",
    "\n",
    "- Each tensor has at least one dimension.\n",
    "- When iterating over the dimension sizes, starting at the trailing (right-most) dimension, the dimension sizes must be\n",
    "    -  equal\n",
    "    -  one of them is 1\n",
    "    -  one of them does not exist.\n",
    "\n",
    "Let us see an example:\n",
    "\n",
    "Assume you have $v = [[1, 2, 3], [4, 5, 6]]$ shape (2, 3) and $w=[3, 2, 1]$ shape (3). If we want to perform $v + w$ (element by element sum), it is clear that the dimensions don't match, but with the help of broadcasting we can still do it: $w$ is simply enlarged to reach size (2, 3) by copying itself twice on the first axis. Then, it is possible to perform element by element sum $v+w$.\n",
    "\n",
    "Let's put broadcasting in practice:\n",
    "\n",
    "1. Perform the above described example $v+w$ using tensors, check that the result size is (2, 3) and that numbers add up.\n",
    "2. $r = [[1, 2], [3, 4], [5, 6]]$ and $l=[1, 2, 3]$. Compute $r + l$. It should raise errors. Why?\n",
    "3. Adjust the size of $l$ in example 2 so that the sum works. What size should $l$ have in order for broadcasting to work on $r + l$?\n",
    "4. Create random integers tensors $s$ of size (2, 1, 3, 1) and $t$ of size (1, 3, 1, 3). Does broadcasting work here in order to compute $s+t$? In case it does, predict the final shape of the result. \n",
    " \n",
    " "
   ]
  },
  {
   "cell_type": "code",
   "execution_count": 13,
   "id": "483c91e5",
   "metadata": {
    "ExecuteTime": {
     "end_time": "2024-09-19T08:58:04.389094Z",
     "start_time": "2024-09-19T08:58:04.387183Z"
    },
    "execution": {
     "iopub.execute_input": "2025-10-07T13:24:25.419017Z",
     "iopub.status.busy": "2025-10-07T13:24:25.418511Z",
     "iopub.status.idle": "2025-10-07T13:24:25.421510Z",
     "shell.execute_reply": "2025-10-07T13:24:25.420929Z"
    },
    "papermill": {
     "duration": 0.013524,
     "end_time": "2025-10-07T13:24:25.422524",
     "exception": false,
     "start_time": "2025-10-07T13:24:25.409000",
     "status": "completed"
    },
    "tags": []
   },
   "outputs": [],
   "source": [
    "## 1: compute v + w\n",
    "\n",
    "## 2: compute r + l. It doesn't work, why?\n",
    "\n",
    "## 3: adjust the size of l, and compute r + l\n",
    "\n",
    "## 4: compute s + t\n"
   ]
  },
  {
   "cell_type": "markdown",
   "id": "43af59ad",
   "metadata": {
    "papermill": {
     "duration": 0.009268,
     "end_time": "2025-10-07T13:24:25.440947",
     "exception": false,
     "start_time": "2025-10-07T13:24:25.431679",
     "status": "completed"
    },
    "tags": []
   },
   "source": [
    "## PyTorch functions\n",
    "\n",
    "In this section we are going to learn the basic functions of PyTorch.\n",
    "\n",
    "### Mean, min, max, sum ...\n",
    "\n",
    "These functions are quite self-explanatory, and they work the same way as in NumPy. The only detail we ought to pay attention to is the axis we want to perform the function along (in NumPy it was called `axis`, in PyTorch `dim`).\n",
    "\n",
    "Create a random tensor $v$ of ints of size (3, 2, 4) and print it.\n",
    "\n",
    "In order to be sure you have understood what is going on, try to predict the result and then check that your prediction is wrong/correct.\n",
    "\n",
    "1. Compute the min value in the entire tensor.\n",
    "2. Compute the max value along axis 0.\n",
    "3. Compute the min along axis 1.\n",
    "4. Multi-dimensional axes: take the sum over axes (0, 1). \n"
   ]
  },
  {
   "cell_type": "code",
   "execution_count": 14,
   "id": "82075b4a",
   "metadata": {
    "execution": {
     "iopub.execute_input": "2025-10-07T13:24:25.460199Z",
     "iopub.status.busy": "2025-10-07T13:24:25.459762Z",
     "iopub.status.idle": "2025-10-07T13:24:25.462710Z",
     "shell.execute_reply": "2025-10-07T13:24:25.462185Z"
    },
    "papermill": {
     "duration": 0.013564,
     "end_time": "2025-10-07T13:24:25.463741",
     "exception": false,
     "start_time": "2025-10-07T13:24:25.450177",
     "status": "completed"
    },
    "tags": []
   },
   "outputs": [],
   "source": [
    "# Create v of shape (3, 2, 4)\n"
   ]
  },
  {
   "cell_type": "code",
   "execution_count": 15,
   "id": "3f6dbb3e",
   "metadata": {
    "ExecuteTime": {
     "end_time": "2024-09-19T09:11:40.284320Z",
     "start_time": "2024-09-19T09:11:40.281917Z"
    },
    "execution": {
     "iopub.execute_input": "2025-10-07T13:24:25.483034Z",
     "iopub.status.busy": "2025-10-07T13:24:25.482404Z",
     "iopub.status.idle": "2025-10-07T13:24:25.485294Z",
     "shell.execute_reply": "2025-10-07T13:24:25.484791Z"
    },
    "papermill": {
     "duration": 0.013464,
     "end_time": "2025-10-07T13:24:25.486336",
     "exception": false,
     "start_time": "2025-10-07T13:24:25.472872",
     "status": "completed"
    },
    "tags": []
   },
   "outputs": [],
   "source": [
    "## 1: Compute the min value of v.\n",
    "\n",
    "## 2: Compute the max along axis 0.\n",
    "\n",
    "## 3: Compute the min along axis 1.\n",
    "\n",
    "## 4: Compute the sum over axes (0, 1)"
   ]
  },
  {
   "cell_type": "markdown",
   "id": "f7fa7504",
   "metadata": {
    "papermill": {
     "duration": 0.009,
     "end_time": "2025-10-07T13:24:25.504498",
     "exception": false,
     "start_time": "2025-10-07T13:24:25.495498",
     "status": "completed"
    },
    "tags": []
   },
   "source": [
    "### [`torch.dot`](https://docs.pytorch.org/docs/stable/generated/torch.dot.html#torch.dot), [`torch.matmul`](https://docs.pytorch.org/docs/stable/generated/torch.matmul), *\n",
    "\n",
    "Unlike NumPy, Torch has a stricter policy on these operands:\n",
    "\n",
    "- `*`: is the Hadamard product. I.e., element-wise product.\n",
    "- [`torch.dot`](https://docs.pytorch.org/docs/stable/generated/torch.dot.html#torch.dot): only used to compute the dot product of two 1-dimensional tensors. Remember how confusing the dot product between multi-dimension NumPy vectors is (see Exercise 1)? PyTorch avoids this issue by simply forbidding the dimension of the input tensors to be greater than 1.\n",
    "- [`torch.matmul`](https://docs.pytorch.org/docs/stable/generated/torch.matmul): or its alias `@` computes the matrix product. Can be used for larger than 2-dimensional tensors (it applies broadcasting, as much as in NumPy). Notice that the complexity of multiplying two $n\\times n$ matrices is $O(n^3)$. We will take advantage of its relatively high time-complexity in order to show how much faster are GPUs with respect to CPUs later on in the notebook.\n",
    "\n",
    "1. Create two random integer tensors $A$ and $B$ of compatible sizes and perform their Hadamard product (element by element product). Try these sizes (predict whether they work or not):\n",
    "    - $A$ size (3, 4), $B$ size (3, 4).\n",
    "    - $A$ size (3, 4), $B$ size (4, 4).\n",
    "    - $A$ size (3, 4), $B$ size (1, 4).\n",
    "2. Create two random 1-dimensional tensors $v, w$ and compute their dot product. If you can use multiple ways to compute it, check that indeed they return the same value.\n",
    "3. Create $C$ of size (3, 4) and $D$ of size (4, 3). Compute the matrix product. Are the sizes compatible?\n",
    "4. Create $E$ of size (3, 3) and $F$ of size (4, 3). Compute the matrix product. Are the sizes compatible? If not, use the transpose operator [`torch.t()`](https://docs.pytorch.org/docs/stable/generated/torch.t.html#torch.t) to adjust the dimensions of one of the two matrices and compute the matrix product.\n",
    "\n",
    "\n"
   ]
  },
  {
   "cell_type": "code",
   "execution_count": 16,
   "id": "8b154325",
   "metadata": {
    "execution": {
     "iopub.execute_input": "2025-10-07T13:24:25.523466Z",
     "iopub.status.busy": "2025-10-07T13:24:25.523253Z",
     "iopub.status.idle": "2025-10-07T13:24:25.525903Z",
     "shell.execute_reply": "2025-10-07T13:24:25.525417Z"
    },
    "papermill": {
     "duration": 0.013321,
     "end_time": "2025-10-07T13:24:25.526956",
     "exception": false,
     "start_time": "2025-10-07T13:24:25.513635",
     "status": "completed"
    },
    "tags": []
   },
   "outputs": [],
   "source": [
    "## 1: Create A, B and perform hadamard product\n",
    "# A (3,4), B (3,4)\n",
    "\n",
    "# A (3,4), B (4,4)\n",
    "\n",
    "# A (3,4), B (1,4)\n",
    "\n",
    "## 2: Create 1-dimensional tensors v, w and compute their dot product.\n",
    "\n",
    "## 3: Compute matrix product of C and D.\n",
    "\n",
    "## 4: adjust dimensions using .T, and compute the matrix product E @ F"
   ]
  },
  {
   "cell_type": "markdown",
   "id": "788710e5",
   "metadata": {
    "papermill": {
     "duration": 0.009046,
     "end_time": "2025-10-07T13:24:25.545490",
     "exception": false,
     "start_time": "2025-10-07T13:24:25.536444",
     "status": "completed"
    },
    "tags": []
   },
   "source": [
    "## Gradients\n",
    "\n",
    "One of the useful features of PyTorch (that NumPy doesn't have) is that it is possible to compute automatically the gradient of functions. \n",
    "As you will see, the gradient of a function is one of the key ingredients of the backpropagation algorithm, used to train neural nets.\n",
    "This is also one of the reason why PyTorch is so ubiquitous to neural nets applications.\n",
    "\n",
    "Assume we have tensor $x = [2], y = [2]$. We have $z = 2x^2 + 3y = [14]$.\n",
    "\n",
    "We know that $\\frac{\\delta z}{\\delta x} = 4x$, $\\frac{\\delta z}{\\delta y} = 3$. Since we are evaluating the point $x=2, y=2$, we get that the gradient is (8, 3). The gradients are going to be stored in `x.grad` and `y.grad` if we specify the option `requires_grad=True`. We can let PyTorch compute the gradients by invoking `z.backward()`. Check that indeed `x.grad` and `y.grad` hold the desired values.\n"
   ]
  },
  {
   "cell_type": "code",
   "execution_count": 17,
   "id": "ea1aac7e",
   "metadata": {
    "ExecuteTime": {
     "end_time": "2024-09-19T10:25:06.967129Z",
     "start_time": "2024-09-19T10:25:06.961072Z"
    },
    "execution": {
     "iopub.execute_input": "2025-10-07T13:24:25.564869Z",
     "iopub.status.busy": "2025-10-07T13:24:25.564678Z",
     "iopub.status.idle": "2025-10-07T13:24:25.656349Z",
     "shell.execute_reply": "2025-10-07T13:24:25.655628Z"
    },
    "papermill": {
     "duration": 0.102613,
     "end_time": "2025-10-07T13:24:25.657526",
     "exception": false,
     "start_time": "2025-10-07T13:24:25.554913",
     "status": "completed"
    },
    "tags": []
   },
   "outputs": [
    {
     "name": "stdout",
     "output_type": "stream",
     "text": [
      "tensor([8.], dtype=torch.float64)\n",
      "tensor([3.], dtype=torch.float64)\n"
     ]
    }
   ],
   "source": [
    "x = torch.tensor([2], dtype=torch.float64, requires_grad=True)\n",
    "y = torch.tensor([2], dtype=torch.float64, requires_grad=True)\n",
    "z = 2 * x*x + 3 * y\n",
    "z.backward()\n",
    "print(x.grad)\n",
    "print(y.grad)"
   ]
  },
  {
   "cell_type": "markdown",
   "id": "1e5dbc5a",
   "metadata": {
    "papermill": {
     "duration": 0.008958,
     "end_time": "2025-10-07T13:24:25.676085",
     "exception": false,
     "start_time": "2025-10-07T13:24:25.667127",
     "status": "completed"
    },
    "tags": []
   },
   "source": [
    "1. Create tensors $s = [1]$ and $t = [1]$, define a new tensor $w = 5s + 6$ and compute its gradient. What is the gradient associated to $t$? (Notice that $w$ does not depend on $t$). \n",
    "2. What happens if we try to define an integer tensor with `requires_grad=True`?\n",
    "3. What happens if we call `numpy()` on a tensor that has `requires_grad=True`?"
   ]
  },
  {
   "cell_type": "code",
   "execution_count": 18,
   "id": "2785e477",
   "metadata": {
    "ExecuteTime": {
     "end_time": "2024-09-19T12:03:47.093944Z",
     "start_time": "2024-09-19T12:03:47.091851Z"
    },
    "execution": {
     "iopub.execute_input": "2025-10-07T13:24:25.695317Z",
     "iopub.status.busy": "2025-10-07T13:24:25.695107Z",
     "iopub.status.idle": "2025-10-07T13:24:25.698003Z",
     "shell.execute_reply": "2025-10-07T13:24:25.697502Z"
    },
    "papermill": {
     "duration": 0.01358,
     "end_time": "2025-10-07T13:24:25.699032",
     "exception": false,
     "start_time": "2025-10-07T13:24:25.685452",
     "status": "completed"
    },
    "tags": []
   },
   "outputs": [],
   "source": [
    "## 1: gradient of t for w = 5s + 6.\n",
    "\n",
    "## 2: integer tensor with requires_grad.\n",
    "\n",
    "## 3: compute .numpy() of a tensor with requires_grad."
   ]
  },
  {
   "cell_type": "markdown",
   "id": "ecb6e8d4",
   "metadata": {
    "papermill": {
     "duration": 0.00902,
     "end_time": "2025-10-07T13:24:25.717410",
     "exception": false,
     "start_time": "2025-10-07T13:24:25.708390",
     "status": "completed"
    },
    "tags": []
   },
   "source": [
    "In this section we point out a very important feature of gradients, namely that they are *cumulative*! In order to see what does that mean, let's see in practice the example that was given in class:\n",
    "\n",
    "1. Create tensors $x=[2], y=[3]$ (with flag `requires_grad=True`).\n",
    "2. Compute $z = x * x + y$ and perform the backward pass.\n",
    "3. Check that the gradients are as expected: $\\frac{\\delta z}{\\delta x}=2x=4$, $\\frac{\\delta z}{\\delta y} = 1$.\n",
    "4. Compute $g = xy + 3x$ and perform che backward pass.\n",
    "5. Check out the gradients: $\\frac{\\delta g}{\\delta x}=y + 3=6$, $\\frac{\\delta g}{\\delta y} = x = 2$.\n",
    "6. Do you see the expected value? Can you explain why? (hint: gradients are *cumulative*).\n",
    "7. In order to fix this potential issue, use [`torch.zero_grad()`](https://docs.pytorch.org/docs/stable/generated/torch.optim.Optimizer.zero_grad.html) in between the computation of $z$ and $g$. Do you observe the expected gradient now?"
   ]
  },
  {
   "cell_type": "code",
   "execution_count": 19,
   "id": "42c51e09",
   "metadata": {
    "execution": {
     "iopub.execute_input": "2025-10-07T13:24:25.736469Z",
     "iopub.status.busy": "2025-10-07T13:24:25.736236Z",
     "iopub.status.idle": "2025-10-07T13:24:25.739222Z",
     "shell.execute_reply": "2025-10-07T13:24:25.738707Z"
    },
    "papermill": {
     "duration": 0.013829,
     "end_time": "2025-10-07T13:24:25.740314",
     "exception": false,
     "start_time": "2025-10-07T13:24:25.726485",
     "status": "completed"
    },
    "tags": []
   },
   "outputs": [],
   "source": [
    "## 1: create x, y.\n",
    "\n",
    "## 2: compute z.\n",
    "\n",
    "## 3: check out gradients of x, y.\n",
    "\n",
    "## 4: compute g.\n",
    "\n",
    "## 5: check out gradients of x, y\n",
    "\n",
    "## 7: Repeat 1-5 using torch.zero_grad()\n"
   ]
  },
  {
   "cell_type": "markdown",
   "id": "2e1698a0",
   "metadata": {
    "papermill": {
     "duration": 0.008948,
     "end_time": "2025-10-07T13:24:25.758281",
     "exception": false,
     "start_time": "2025-10-07T13:24:25.749333",
     "status": "completed"
    },
    "tags": []
   },
   "source": [
    "## Device (GPU vs CPU)\n",
    "\n",
    "In this section we will learn how do computation using the GPU instead of the CPU: notice that this is the main reason why, in Deep Learning applications, PyTorch is used over NumPy.\n",
    "\n",
    "By default, tensors are accessed by the CPU. You can check it easily using the [`.device()`](https://pytorch.org/docs/stable/tensor_attributes.html#torch.device) method.\n",
    "1) Create an identity matrix of size (4, 4) and access its device attribute."
   ]
  },
  {
   "cell_type": "code",
   "execution_count": 20,
   "id": "44bc65b3",
   "metadata": {
    "ExecuteTime": {
     "end_time": "2024-09-18T20:17:23.060931Z",
     "start_time": "2024-09-18T20:17:23.055769Z"
    },
    "execution": {
     "iopub.execute_input": "2025-10-07T13:24:25.777552Z",
     "iopub.status.busy": "2025-10-07T13:24:25.776905Z",
     "iopub.status.idle": "2025-10-07T13:24:25.780209Z",
     "shell.execute_reply": "2025-10-07T13:24:25.779527Z"
    },
    "papermill": {
     "duration": 0.013915,
     "end_time": "2025-10-07T13:24:25.781195",
     "exception": false,
     "start_time": "2025-10-07T13:24:25.767280",
     "status": "completed"
    },
    "tags": []
   },
   "outputs": [],
   "source": [
    "## 1: see .device of a matrix\n",
    "\n",
    "v = []  # create a tensor"
   ]
  },
  {
   "cell_type": "markdown",
   "id": "1a1f976c",
   "metadata": {
    "papermill": {
     "duration": 0.008904,
     "end_time": "2025-10-07T13:24:25.799073",
     "exception": false,
     "start_time": "2025-10-07T13:24:25.790169",
     "status": "completed"
    },
    "tags": []
   },
   "source": [
    "Hence, every time we want to use the GPU, we need to explicitly move the tensors to the desired device. Careful here: your laptop doesn't necessarily have a dedicated GPU. And, even if it has one, it might not be compatible with CUDA (the NVIDIA interface that allows computations to be performed on the GPU).\n",
    "\n",
    "You can check if CUDA is available on your machine by simply using [`cuda.is_available()`](https://pytorch.org/docs/stable/generated/torch.cuda.is_available.html)."
   ]
  },
  {
   "cell_type": "code",
   "execution_count": 21,
   "id": "c4025095",
   "metadata": {
    "ExecuteTime": {
     "end_time": "2024-09-18T20:08:57.159307Z",
     "start_time": "2024-09-18T20:08:57.154986Z"
    },
    "execution": {
     "iopub.execute_input": "2025-10-07T13:24:25.817822Z",
     "iopub.status.busy": "2025-10-07T13:24:25.817618Z",
     "iopub.status.idle": "2025-10-07T13:24:25.822439Z",
     "shell.execute_reply": "2025-10-07T13:24:25.821635Z"
    },
    "papermill": {
     "duration": 0.015527,
     "end_time": "2025-10-07T13:24:25.823636",
     "exception": false,
     "start_time": "2025-10-07T13:24:25.808109",
     "status": "completed"
    },
    "tags": []
   },
   "outputs": [
    {
     "data": {
      "text/plain": [
       "True"
      ]
     },
     "execution_count": 21,
     "metadata": {},
     "output_type": "execute_result"
    }
   ],
   "source": [
    "torch.cuda.is_available()"
   ]
  },
  {
   "cell_type": "markdown",
   "id": "181fd09f",
   "metadata": {
    "papermill": {
     "duration": 0.009569,
     "end_time": "2025-10-07T13:24:25.842887",
     "exception": false,
     "start_time": "2025-10-07T13:24:25.833318",
     "status": "completed"
    },
    "tags": []
   },
   "source": [
    "If the above returns False, it could be either because you didn't install correctly CUDA, or because you laptop doesn't have a GPU compatible with it. \n",
    "If you have a MacBook with Apple Silicon processors, you can still use the device `mps`:"
   ]
  },
  {
   "cell_type": "code",
   "execution_count": 22,
   "id": "1f2183f9",
   "metadata": {
    "ExecuteTime": {
     "end_time": "2024-09-18T20:12:06.271423Z",
     "start_time": "2024-09-18T20:12:06.267589Z"
    },
    "execution": {
     "iopub.execute_input": "2025-10-07T13:24:25.863169Z",
     "iopub.status.busy": "2025-10-07T13:24:25.862964Z",
     "iopub.status.idle": "2025-10-07T13:24:25.867237Z",
     "shell.execute_reply": "2025-10-07T13:24:25.866549Z"
    },
    "papermill": {
     "duration": 0.015574,
     "end_time": "2025-10-07T13:24:25.868345",
     "exception": false,
     "start_time": "2025-10-07T13:24:25.852771",
     "status": "completed"
    },
    "tags": []
   },
   "outputs": [
    {
     "data": {
      "text/plain": [
       "False"
      ]
     },
     "execution_count": 22,
     "metadata": {},
     "output_type": "execute_result"
    }
   ],
   "source": [
    "# For mac M1/2/3/* users\n",
    "torch.backends.mps.is_available()"
   ]
  },
  {
   "cell_type": "markdown",
   "id": "ee012ad8",
   "metadata": {
    "papermill": {
     "duration": 0.009374,
     "end_time": "2025-10-07T13:24:25.887334",
     "exception": false,
     "start_time": "2025-10-07T13:24:25.877960",
     "status": "completed"
    },
    "tags": []
   },
   "source": [
    "We can set the device to one of these three options:\n",
    "- `cuda` (if you have a NVIDIA graphics card). Might be `cuda:0` etc if you have more than one.\n",
    "- `mps` (if you have a MacBook with M1/2/3/* processor)\n",
    "- `cpu` otherwise\n",
    "\n",
    "If your laptop doesn't have any of the above-mentioned devices apart from the CPU, you can use Kaggle's notebooks: they offer free hours of GPU per week (they count the hours the kernel is running, not if you are actually using the notebook. Hence, remember to shut the kernel down when you don't use it!!!)"
   ]
  },
  {
   "cell_type": "markdown",
   "id": "4ddd8c82",
   "metadata": {
    "papermill": {
     "duration": 0.009136,
     "end_time": "2025-10-07T13:24:25.905800",
     "exception": false,
     "start_time": "2025-10-07T13:24:25.896664",
     "status": "completed"
    },
    "tags": []
   },
   "source": [
    "If you are using Kaggle platform for your projects (we recommend you to do that), you have at your disposal 30h/week of free GPUs: in order to activate it, you need to open a notebook, go to settings -> accelerator and you can select a GPU from there. If the GPU options are non-clickable, it is because you have to verify you account using your phone number. Go to home -> your picture (top right border) -> settings -> phone verification. Before the options become actually clickable you will need to wait a few minutes (<5')."
   ]
  },
  {
   "cell_type": "code",
   "execution_count": 23,
   "id": "267b29db",
   "metadata": {
    "ExecuteTime": {
     "end_time": "2024-09-18T20:17:26.711323Z",
     "start_time": "2024-09-18T20:17:26.707268Z"
    },
    "execution": {
     "iopub.execute_input": "2025-10-07T13:24:25.924851Z",
     "iopub.status.busy": "2025-10-07T13:24:25.924665Z",
     "iopub.status.idle": "2025-10-07T13:24:25.929080Z",
     "shell.execute_reply": "2025-10-07T13:24:25.928409Z"
    },
    "papermill": {
     "duration": 0.015154,
     "end_time": "2025-10-07T13:24:25.930152",
     "exception": false,
     "start_time": "2025-10-07T13:24:25.914998",
     "status": "completed"
    },
    "tags": []
   },
   "outputs": [
    {
     "data": {
      "text/plain": [
       "device(type='cuda')"
      ]
     },
     "execution_count": 23,
     "metadata": {},
     "output_type": "execute_result"
    }
   ],
   "source": [
    "device = torch.device('cuda' if torch.cuda.is_available() else 'mps' if torch.backends.mps.is_available() else 'cpu')\n",
    "device"
   ]
  },
  {
   "cell_type": "markdown",
   "id": "667e7d9e",
   "metadata": {
    "papermill": {
     "duration": 0.009082,
     "end_time": "2025-10-07T13:24:25.948606",
     "exception": false,
     "start_time": "2025-10-07T13:24:25.939524",
     "status": "completed"
    },
    "tags": []
   },
   "source": [
    "Finally, move the tensor `v` you created earlier to the most convenient device. Use function [`.to`](https://pytorch.org/docs/stable/generated/torch.Tensor.to.html). Careful: is it an in-place method? Check that the device is indeed correct."
   ]
  },
  {
   "cell_type": "code",
   "execution_count": 24,
   "id": "dfb53b90",
   "metadata": {
    "ExecuteTime": {
     "end_time": "2024-09-18T20:24:40.156801Z",
     "start_time": "2024-09-18T20:24:40.153872Z"
    },
    "execution": {
     "iopub.execute_input": "2025-10-07T13:24:25.967758Z",
     "iopub.status.busy": "2025-10-07T13:24:25.967565Z",
     "iopub.status.idle": "2025-10-07T13:24:25.970559Z",
     "shell.execute_reply": "2025-10-07T13:24:25.969830Z"
    },
    "papermill": {
     "duration": 0.01385,
     "end_time": "2025-10-07T13:24:25.971642",
     "exception": false,
     "start_time": "2025-10-07T13:24:25.957792",
     "status": "completed"
    },
    "tags": []
   },
   "outputs": [],
   "source": [
    "# Move vector v to the correct device. Check it is indeed on the desired device."
   ]
  },
  {
   "cell_type": "markdown",
   "id": "f8ea212d",
   "metadata": {
    "papermill": {
     "duration": 0.009149,
     "end_time": "2025-10-07T13:24:25.989957",
     "exception": false,
     "start_time": "2025-10-07T13:24:25.980808",
     "status": "completed"
    },
    "tags": []
   },
   "source": [
    "You can also create a tensor and send it directly to the correct device. \n",
    "1. Create a tensor of ones of size (3, 3) and specify in its constructor the `device` attribute. Check that, indeed, the tensor has been initialized with the correct device."
   ]
  },
  {
   "cell_type": "code",
   "execution_count": 25,
   "id": "8905b47a",
   "metadata": {
    "ExecuteTime": {
     "end_time": "2024-09-19T06:49:34.057350Z",
     "start_time": "2024-09-19T06:49:34.051445Z"
    },
    "execution": {
     "iopub.execute_input": "2025-10-07T13:24:26.009246Z",
     "iopub.status.busy": "2025-10-07T13:24:26.009053Z",
     "iopub.status.idle": "2025-10-07T13:24:26.011867Z",
     "shell.execute_reply": "2025-10-07T13:24:26.011381Z"
    },
    "papermill": {
     "duration": 0.013684,
     "end_time": "2025-10-07T13:24:26.012851",
     "exception": false,
     "start_time": "2025-10-07T13:24:25.999167",
     "status": "completed"
    },
    "tags": []
   },
   "outputs": [],
   "source": [
    "## 1: Create a tensor and initialize it to the correct device."
   ]
  },
  {
   "cell_type": "markdown",
   "id": "b093af03",
   "metadata": {
    "papermill": {
     "duration": 0.009003,
     "end_time": "2025-10-07T13:24:26.031048",
     "exception": false,
     "start_time": "2025-10-07T13:24:26.022045",
     "status": "completed"
    },
    "tags": []
   },
   "source": [
    "### GPUs vs CPUs"
   ]
  },
  {
   "cell_type": "markdown",
   "id": "5e9938f1",
   "metadata": {
    "papermill": {
     "duration": 0.009198,
     "end_time": "2025-10-07T13:24:26.049916",
     "exception": false,
     "start_time": "2025-10-07T13:24:26.040718",
     "status": "completed"
    },
    "tags": []
   },
   "source": [
    "Now, we prove empirically that GPUs are much faster than CPUs at doing large calculations.\n",
    "\n",
    "Create large tensors $G, H$ both of size (15000, 15000). Take their matrix product and measure how long it takes (use [`%%time`](https://ipython.readthedocs.io/en/9.2.0/interactive/magics.html) cell magic notebook function)."
   ]
  },
  {
   "cell_type": "code",
   "execution_count": 26,
   "id": "08ae56c7",
   "metadata": {
    "ExecuteTime": {
     "end_time": "2024-09-18T20:17:26.711323Z",
     "start_time": "2024-09-18T20:17:26.707268Z"
    },
    "execution": {
     "iopub.execute_input": "2025-10-07T13:24:26.068874Z",
     "iopub.status.busy": "2025-10-07T13:24:26.068693Z",
     "iopub.status.idle": "2025-10-07T13:24:26.073133Z",
     "shell.execute_reply": "2025-10-07T13:24:26.072472Z"
    },
    "papermill": {
     "duration": 0.015155,
     "end_time": "2025-10-07T13:24:26.074127",
     "exception": false,
     "start_time": "2025-10-07T13:24:26.058972",
     "status": "completed"
    },
    "tags": []
   },
   "outputs": [
    {
     "data": {
      "text/plain": [
       "device(type='cuda')"
      ]
     },
     "execution_count": 26,
     "metadata": {},
     "output_type": "execute_result"
    }
   ],
   "source": [
    "device = torch.device('cuda' if torch.cuda.is_available() else 'mps' if torch.backends.mps.is_available() else 'cpu')\n",
    "device"
   ]
  },
  {
   "cell_type": "code",
   "execution_count": 27,
   "id": "2d73b168",
   "metadata": {
    "ExecuteTime": {
     "end_time": "2024-09-19T09:49:37.404396Z",
     "start_time": "2024-09-19T09:49:35.677903Z"
    },
    "execution": {
     "iopub.execute_input": "2025-10-07T13:24:26.093649Z",
     "iopub.status.busy": "2025-10-07T13:24:26.093450Z",
     "iopub.status.idle": "2025-10-07T13:24:29.759916Z",
     "shell.execute_reply": "2025-10-07T13:24:29.759260Z"
    },
    "papermill": {
     "duration": 3.677706,
     "end_time": "2025-10-07T13:24:29.761305",
     "exception": false,
     "start_time": "2025-10-07T13:24:26.083599",
     "status": "completed"
    },
    "tags": []
   },
   "outputs": [],
   "source": [
    "# Create E and F\n",
    "G = torch.rand(15000, 15000)\n",
    "H = torch.rand(15000, 15000)"
   ]
  },
  {
   "cell_type": "code",
   "execution_count": 28,
   "id": "8a28a77e",
   "metadata": {
    "ExecuteTime": {
     "end_time": "2024-09-19T09:49:55.733265Z",
     "start_time": "2024-09-19T09:49:45.723855Z"
    },
    "execution": {
     "iopub.execute_input": "2025-10-07T13:24:29.781641Z",
     "iopub.status.busy": "2025-10-07T13:24:29.781451Z",
     "iopub.status.idle": "2025-10-07T13:24:54.374460Z",
     "shell.execute_reply": "2025-10-07T13:24:54.373712Z"
    },
    "papermill": {
     "duration": 24.604312,
     "end_time": "2025-10-07T13:24:54.375732",
     "exception": false,
     "start_time": "2025-10-07T13:24:29.771420",
     "status": "completed"
    },
    "scrolled": true,
    "tags": []
   },
   "outputs": [
    {
     "name": "stdout",
     "output_type": "stream",
     "text": [
      "CPU times: user 48.5 s, sys: 600 ms, total: 49.1 s\n",
      "Wall time: 24.6 s\n"
     ]
    },
    {
     "data": {
      "text/plain": [
       "tensor([[3735.0874, 3762.8640, 3743.7007,  ..., 3710.3733, 3756.2607,\n",
       "         3729.0693],\n",
       "        [3745.3420, 3757.1245, 3758.2161,  ..., 3724.2451, 3749.9404,\n",
       "         3744.9312],\n",
       "        [3776.3418, 3806.0505, 3774.0203,  ..., 3771.3789, 3775.5869,\n",
       "         3775.5925],\n",
       "        ...,\n",
       "        [3780.0073, 3789.3960, 3777.5007,  ..., 3725.1914, 3783.6843,\n",
       "         3768.2417],\n",
       "        [3764.1716, 3798.6328, 3757.5576,  ..., 3758.4512, 3796.7861,\n",
       "         3757.0696],\n",
       "        [3749.7908, 3774.8506, 3761.9629,  ..., 3721.4873, 3784.7039,\n",
       "         3743.9556]])"
      ]
     },
     "execution_count": 28,
     "metadata": {},
     "output_type": "execute_result"
    }
   ],
   "source": [
    "%%time\n",
    "G @ H"
   ]
  },
  {
   "cell_type": "markdown",
   "id": "6503c221",
   "metadata": {
    "papermill": {
     "duration": 0.009582,
     "end_time": "2025-10-07T13:24:54.395448",
     "exception": false,
     "start_time": "2025-10-07T13:24:54.385866",
     "status": "completed"
    },
    "tags": []
   },
   "source": [
    "Move $E$ and $F$ to the most convenient device at your disposal (different from CPU, if possible), and compute the same matrix product."
   ]
  },
  {
   "cell_type": "code",
   "execution_count": 29,
   "id": "527e4e26",
   "metadata": {
    "ExecuteTime": {
     "end_time": "2024-09-19T09:50:02.144090Z",
     "start_time": "2024-09-19T09:50:01.448426Z"
    },
    "execution": {
     "iopub.execute_input": "2025-10-07T13:24:54.415741Z",
     "iopub.status.busy": "2025-10-07T13:24:54.415268Z",
     "iopub.status.idle": "2025-10-07T13:24:55.139863Z",
     "shell.execute_reply": "2025-10-07T13:24:55.139261Z"
    },
    "papermill": {
     "duration": 0.735995,
     "end_time": "2025-10-07T13:24:55.141128",
     "exception": false,
     "start_time": "2025-10-07T13:24:54.405133",
     "status": "completed"
    },
    "tags": []
   },
   "outputs": [],
   "source": [
    "# Move the tensors to GPU in another cell, so that the time is not counted.\n",
    "G = G.to(device)\n",
    "H = H.to(device)"
   ]
  },
  {
   "cell_type": "code",
   "execution_count": 30,
   "id": "d032b413",
   "metadata": {
    "ExecuteTime": {
     "end_time": "2024-09-19T09:50:05.795896Z",
     "start_time": "2024-09-19T09:50:04.017497Z"
    },
    "execution": {
     "iopub.execute_input": "2025-10-07T13:24:55.161824Z",
     "iopub.status.busy": "2025-10-07T13:24:55.161619Z",
     "iopub.status.idle": "2025-10-07T13:24:57.384797Z",
     "shell.execute_reply": "2025-10-07T13:24:57.384076Z"
    },
    "jupyter": {
     "source_hidden": true
    },
    "papermill": {
     "duration": 2.234557,
     "end_time": "2025-10-07T13:24:57.385941",
     "exception": false,
     "start_time": "2025-10-07T13:24:55.151384",
     "status": "completed"
    },
    "tags": []
   },
   "outputs": [
    {
     "name": "stdout",
     "output_type": "stream",
     "text": [
      "CPU times: user 22.8 ms, sys: 14.3 ms, total: 37.1 ms\n",
      "Wall time: 84.1 ms\n"
     ]
    },
    {
     "data": {
      "text/plain": [
       "tensor([[3735.0857, 3762.8594, 3743.7097,  ..., 3710.3835, 3756.2571,\n",
       "         3729.0632],\n",
       "        [3745.3347, 3757.1138, 3758.2266,  ..., 3724.2485, 3749.9465,\n",
       "         3744.9385],\n",
       "        [3776.3350, 3806.0420, 3774.0212,  ..., 3771.3821, 3775.5818,\n",
       "         3775.5913],\n",
       "        ...,\n",
       "        [3780.0142, 3789.3882, 3777.5012,  ..., 3725.1948, 3783.6809,\n",
       "         3768.2275],\n",
       "        [3764.1797, 3798.6382, 3757.5615,  ..., 3758.4504, 3796.7825,\n",
       "         3757.0693],\n",
       "        [3749.7922, 3774.8550, 3761.9688,  ..., 3721.4995, 3784.7029,\n",
       "         3743.9556]], device='cuda:0')"
      ]
     },
     "execution_count": 30,
     "metadata": {},
     "output_type": "execute_result"
    }
   ],
   "source": [
    "%%time\n",
    "G @ H"
   ]
  },
  {
   "cell_type": "markdown",
   "id": "b924da8f",
   "metadata": {
    "papermill": {
     "duration": 0.009652,
     "end_time": "2025-10-07T13:24:57.405895",
     "exception": false,
     "start_time": "2025-10-07T13:24:57.396243",
     "status": "completed"
    },
    "tags": []
   },
   "source": [
    "Side note: on my laptop (MacBook) I noticed a performance improvement by $\\approx\\times 10$. On Kaggle the performance improvement is much larger (from >20'' to <<1').\n",
    "\n",
    "At the end of this task, if you are using Kaggle, remember to shut down your kernel (or Kaggle will continue charging you GPU time)."
   ]
  },
  {
   "cell_type": "markdown",
   "id": "96004e1e",
   "metadata": {
    "papermill": {
     "duration": 0.009502,
     "end_time": "2025-10-07T13:24:57.425131",
     "exception": false,
     "start_time": "2025-10-07T13:24:57.415629",
     "status": "completed"
    },
    "tags": []
   },
   "source": [
    "# A super quick introduction to pandas\n",
    "\n",
    "[Pandas](https://pandas.pydata.org/) is the equivalent of a Python database (but it is also a \"data analysis and manipulation tool\"). Or Python's version of Excel, if you prefer.\n",
    "\n",
    "Install it in your environment (using your IDE's GUI, or by typing in your command line `conda install pandas`).\n",
    "\n",
    "Next, we will see the most basic usage of pandas: making queries and modifying your data. Keep in mind that pandas does much more than that: see this simple [cheatsheet](https://pandas.pydata.org/docs/user_guide/10min.html) for reference.\n",
    "\n",
    "It is best practice, in pandas, to use the shortcut `pd` on import."
   ]
  },
  {
   "cell_type": "code",
   "execution_count": 31,
   "id": "214c3cf6",
   "metadata": {
    "execution": {
     "iopub.execute_input": "2025-10-07T13:24:57.445276Z",
     "iopub.status.busy": "2025-10-07T13:24:57.444804Z",
     "iopub.status.idle": "2025-10-07T13:24:58.802403Z",
     "shell.execute_reply": "2025-10-07T13:24:58.801748Z"
    },
    "papermill": {
     "duration": 1.369241,
     "end_time": "2025-10-07T13:24:58.803920",
     "exception": false,
     "start_time": "2025-10-07T13:24:57.434679",
     "status": "completed"
    },
    "tags": []
   },
   "outputs": [],
   "source": [
    "import pandas as pd"
   ]
  },
  {
   "cell_type": "markdown",
   "id": "cc97da85",
   "metadata": {
    "papermill": {
     "duration": 0.009564,
     "end_time": "2025-10-07T13:24:58.823921",
     "exception": false,
     "start_time": "2025-10-07T13:24:58.814357",
     "status": "completed"
    },
    "tags": []
   },
   "source": [
    "A table in pandas is called `pd.DataFrame`. Single columns, instead, are called `pd.Series` (a `pd.Series` is the pandas equivalent of a `torch.tensor` or `np.array`).\n",
    "You can create a table using some data in a dictionary, or importing it from any well-formatted file (see, e.g., [`pd.read_csv`](https://pandas.pydata.org/docs/reference/api/pandas.read_csv.html#pandas.read_csv))."
   ]
  },
  {
   "cell_type": "code",
   "execution_count": 32,
   "id": "d1c784af",
   "metadata": {
    "execution": {
     "iopub.execute_input": "2025-10-07T13:24:58.844667Z",
     "iopub.status.busy": "2025-10-07T13:24:58.844000Z",
     "iopub.status.idle": "2025-10-07T13:24:58.864214Z",
     "shell.execute_reply": "2025-10-07T13:24:58.863570Z"
    },
    "papermill": {
     "duration": 0.031571,
     "end_time": "2025-10-07T13:24:58.865337",
     "exception": false,
     "start_time": "2025-10-07T13:24:58.833766",
     "status": "completed"
    },
    "tags": []
   },
   "outputs": [
    {
     "data": {
      "text/html": [
       "<div>\n",
       "<style scoped>\n",
       "    .dataframe tbody tr th:only-of-type {\n",
       "        vertical-align: middle;\n",
       "    }\n",
       "\n",
       "    .dataframe tbody tr th {\n",
       "        vertical-align: top;\n",
       "    }\n",
       "\n",
       "    .dataframe thead th {\n",
       "        text-align: right;\n",
       "    }\n",
       "</style>\n",
       "<table border=\"1\" class=\"dataframe\">\n",
       "  <thead>\n",
       "    <tr style=\"text-align: right;\">\n",
       "      <th></th>\n",
       "      <th>Name</th>\n",
       "      <th>Department</th>\n",
       "      <th>Salary</th>\n",
       "      <th>Years_at_Company</th>\n",
       "    </tr>\n",
       "  </thead>\n",
       "  <tbody>\n",
       "    <tr>\n",
       "      <th>a</th>\n",
       "      <td>Alice</td>\n",
       "      <td>HR</td>\n",
       "      <td>50000</td>\n",
       "      <td>2</td>\n",
       "    </tr>\n",
       "    <tr>\n",
       "      <th>b</th>\n",
       "      <td>Bob</td>\n",
       "      <td>IT</td>\n",
       "      <td>60000</td>\n",
       "      <td>5</td>\n",
       "    </tr>\n",
       "    <tr>\n",
       "      <th>c</th>\n",
       "      <td>Charlie</td>\n",
       "      <td>Finance</td>\n",
       "      <td>55000</td>\n",
       "      <td>3</td>\n",
       "    </tr>\n",
       "    <tr>\n",
       "      <th>d</th>\n",
       "      <td>Diana</td>\n",
       "      <td>IT</td>\n",
       "      <td>65000</td>\n",
       "      <td>7</td>\n",
       "    </tr>\n",
       "    <tr>\n",
       "      <th>e</th>\n",
       "      <td>Ethan</td>\n",
       "      <td>HR</td>\n",
       "      <td>52000</td>\n",
       "      <td>1</td>\n",
       "    </tr>\n",
       "  </tbody>\n",
       "</table>\n",
       "</div>"
      ],
      "text/plain": [
       "      Name Department  Salary  Years_at_Company\n",
       "a    Alice         HR   50000                 2\n",
       "b      Bob         IT   60000                 5\n",
       "c  Charlie    Finance   55000                 3\n",
       "d    Diana         IT   65000                 7\n",
       "e    Ethan         HR   52000                 1"
      ]
     },
     "execution_count": 32,
     "metadata": {},
     "output_type": "execute_result"
    }
   ],
   "source": [
    "data = {\n",
    "    \"Name\": [\"Alice\", \"Bob\", \"Charlie\", \"Diana\", \"Ethan\"],\n",
    "    \"Department\": [\"HR\", \"IT\", \"Finance\", \"IT\", \"HR\"],\n",
    "    \"Salary\": [50000, 60000, 55000, 65000, 52000],\n",
    "    \"Years_at_Company\": [2, 5, 3, 7, 1],\n",
    "}\n",
    "\n",
    "# Create a DataFrame\n",
    "df = pd.DataFrame(data, index=['a', 'b', 'c', 'd', 'e'])\n",
    "df"
   ]
  },
  {
   "cell_type": "markdown",
   "id": "a79461f7",
   "metadata": {
    "papermill": {
     "duration": 0.010115,
     "end_time": "2025-10-07T13:24:58.886076",
     "exception": false,
     "start_time": "2025-10-07T13:24:58.875961",
     "status": "completed"
    },
    "tags": []
   },
   "source": [
    "As you see, the data is nicely displayed in a table. The additional column (without a title) is the index: namely, the name of every row. By default it is an increasing number, but you can change it to be anything (in our case, we used letters)."
   ]
  },
  {
   "cell_type": "markdown",
   "id": "36de8be0",
   "metadata": {
    "papermill": {
     "duration": 0.0098,
     "end_time": "2025-10-07T13:24:58.905599",
     "exception": false,
     "start_time": "2025-10-07T13:24:58.895799",
     "status": "completed"
    },
    "tags": []
   },
   "source": [
    "## Queries\n",
    "\n",
    "You can select columns using the usual `[]` notation (this returns a `pd.Series`):"
   ]
  },
  {
   "cell_type": "code",
   "execution_count": 33,
   "id": "33ff165d",
   "metadata": {
    "execution": {
     "iopub.execute_input": "2025-10-07T13:24:58.925931Z",
     "iopub.status.busy": "2025-10-07T13:24:58.925568Z",
     "iopub.status.idle": "2025-10-07T13:24:58.931520Z",
     "shell.execute_reply": "2025-10-07T13:24:58.930844Z"
    },
    "papermill": {
     "duration": 0.017434,
     "end_time": "2025-10-07T13:24:58.932818",
     "exception": false,
     "start_time": "2025-10-07T13:24:58.915384",
     "status": "completed"
    },
    "tags": []
   },
   "outputs": [
    {
     "data": {
      "text/plain": [
       "a         HR\n",
       "b         IT\n",
       "c    Finance\n",
       "d         IT\n",
       "e         HR\n",
       "Name: Department, dtype: object"
      ]
     },
     "execution_count": 33,
     "metadata": {},
     "output_type": "execute_result"
    }
   ],
   "source": [
    "df['Department']"
   ]
  },
  {
   "cell_type": "markdown",
   "id": "2c19f543",
   "metadata": {
    "papermill": {
     "duration": 0.009681,
     "end_time": "2025-10-07T13:24:58.953399",
     "exception": false,
     "start_time": "2025-10-07T13:24:58.943718",
     "status": "completed"
    },
    "tags": []
   },
   "source": [
    "Or, multiple columns with the ``[[]]`` notation (this returns a `pd.DataFrame`):"
   ]
  },
  {
   "cell_type": "code",
   "execution_count": 34,
   "id": "8595ce6b",
   "metadata": {
    "execution": {
     "iopub.execute_input": "2025-10-07T13:24:58.975106Z",
     "iopub.status.busy": "2025-10-07T13:24:58.974678Z",
     "iopub.status.idle": "2025-10-07T13:24:58.988298Z",
     "shell.execute_reply": "2025-10-07T13:24:58.987569Z"
    },
    "papermill": {
     "duration": 0.025543,
     "end_time": "2025-10-07T13:24:58.989489",
     "exception": false,
     "start_time": "2025-10-07T13:24:58.963946",
     "status": "completed"
    },
    "tags": []
   },
   "outputs": [
    {
     "data": {
      "text/html": [
       "<div>\n",
       "<style scoped>\n",
       "    .dataframe tbody tr th:only-of-type {\n",
       "        vertical-align: middle;\n",
       "    }\n",
       "\n",
       "    .dataframe tbody tr th {\n",
       "        vertical-align: top;\n",
       "    }\n",
       "\n",
       "    .dataframe thead th {\n",
       "        text-align: right;\n",
       "    }\n",
       "</style>\n",
       "<table border=\"1\" class=\"dataframe\">\n",
       "  <thead>\n",
       "    <tr style=\"text-align: right;\">\n",
       "      <th></th>\n",
       "      <th>Department</th>\n",
       "      <th>Salary</th>\n",
       "    </tr>\n",
       "  </thead>\n",
       "  <tbody>\n",
       "    <tr>\n",
       "      <th>a</th>\n",
       "      <td>HR</td>\n",
       "      <td>50000</td>\n",
       "    </tr>\n",
       "    <tr>\n",
       "      <th>b</th>\n",
       "      <td>IT</td>\n",
       "      <td>60000</td>\n",
       "    </tr>\n",
       "    <tr>\n",
       "      <th>c</th>\n",
       "      <td>Finance</td>\n",
       "      <td>55000</td>\n",
       "    </tr>\n",
       "    <tr>\n",
       "      <th>d</th>\n",
       "      <td>IT</td>\n",
       "      <td>65000</td>\n",
       "    </tr>\n",
       "    <tr>\n",
       "      <th>e</th>\n",
       "      <td>HR</td>\n",
       "      <td>52000</td>\n",
       "    </tr>\n",
       "  </tbody>\n",
       "</table>\n",
       "</div>"
      ],
      "text/plain": [
       "  Department  Salary\n",
       "a         HR   50000\n",
       "b         IT   60000\n",
       "c    Finance   55000\n",
       "d         IT   65000\n",
       "e         HR   52000"
      ]
     },
     "execution_count": 34,
     "metadata": {},
     "output_type": "execute_result"
    }
   ],
   "source": [
    "df[['Department','Salary']]"
   ]
  },
  {
   "cell_type": "markdown",
   "id": "b0b3c189",
   "metadata": {
    "papermill": {
     "duration": 0.010216,
     "end_time": "2025-10-07T13:24:59.009884",
     "exception": false,
     "start_time": "2025-10-07T13:24:58.999668",
     "status": "completed"
    },
    "tags": []
   },
   "source": [
    "You can select rows (as much as in SQL) according to any condition: it is enough to create a boolean vector with the rows to select, and use the following syntax:"
   ]
  },
  {
   "cell_type": "code",
   "execution_count": 35,
   "id": "e4457f32",
   "metadata": {
    "execution": {
     "iopub.execute_input": "2025-10-07T13:24:59.030473Z",
     "iopub.status.busy": "2025-10-07T13:24:59.030261Z",
     "iopub.status.idle": "2025-10-07T13:24:59.039608Z",
     "shell.execute_reply": "2025-10-07T13:24:59.039026Z"
    },
    "papermill": {
     "duration": 0.020761,
     "end_time": "2025-10-07T13:24:59.040630",
     "exception": false,
     "start_time": "2025-10-07T13:24:59.019869",
     "status": "completed"
    },
    "tags": []
   },
   "outputs": [
    {
     "data": {
      "text/html": [
       "<div>\n",
       "<style scoped>\n",
       "    .dataframe tbody tr th:only-of-type {\n",
       "        vertical-align: middle;\n",
       "    }\n",
       "\n",
       "    .dataframe tbody tr th {\n",
       "        vertical-align: top;\n",
       "    }\n",
       "\n",
       "    .dataframe thead th {\n",
       "        text-align: right;\n",
       "    }\n",
       "</style>\n",
       "<table border=\"1\" class=\"dataframe\">\n",
       "  <thead>\n",
       "    <tr style=\"text-align: right;\">\n",
       "      <th></th>\n",
       "      <th>Name</th>\n",
       "      <th>Department</th>\n",
       "      <th>Salary</th>\n",
       "      <th>Years_at_Company</th>\n",
       "    </tr>\n",
       "  </thead>\n",
       "  <tbody>\n",
       "    <tr>\n",
       "      <th>a</th>\n",
       "      <td>Alice</td>\n",
       "      <td>HR</td>\n",
       "      <td>50000</td>\n",
       "      <td>2</td>\n",
       "    </tr>\n",
       "    <tr>\n",
       "      <th>b</th>\n",
       "      <td>Bob</td>\n",
       "      <td>IT</td>\n",
       "      <td>60000</td>\n",
       "      <td>5</td>\n",
       "    </tr>\n",
       "    <tr>\n",
       "      <th>e</th>\n",
       "      <td>Ethan</td>\n",
       "      <td>HR</td>\n",
       "      <td>52000</td>\n",
       "      <td>1</td>\n",
       "    </tr>\n",
       "  </tbody>\n",
       "</table>\n",
       "</div>"
      ],
      "text/plain": [
       "    Name Department  Salary  Years_at_Company\n",
       "a  Alice         HR   50000                 2\n",
       "b    Bob         IT   60000                 5\n",
       "e  Ethan         HR   52000                 1"
      ]
     },
     "execution_count": 35,
     "metadata": {},
     "output_type": "execute_result"
    }
   ],
   "source": [
    "df[[True, True, False, False, True]]"
   ]
  },
  {
   "cell_type": "markdown",
   "id": "b57f4e9f",
   "metadata": {
    "papermill": {
     "duration": 0.009623,
     "end_time": "2025-10-07T13:24:59.061031",
     "exception": false,
     "start_time": "2025-10-07T13:24:59.051408",
     "status": "completed"
    },
    "tags": []
   },
   "source": [
    "You can create boolean vectors according to any condition using element-wise boolean operators:"
   ]
  },
  {
   "cell_type": "code",
   "execution_count": 36,
   "id": "fae4847b",
   "metadata": {
    "execution": {
     "iopub.execute_input": "2025-10-07T13:24:59.081599Z",
     "iopub.status.busy": "2025-10-07T13:24:59.081390Z",
     "iopub.status.idle": "2025-10-07T13:24:59.086297Z",
     "shell.execute_reply": "2025-10-07T13:24:59.085710Z"
    },
    "papermill": {
     "duration": 0.01659,
     "end_time": "2025-10-07T13:24:59.087504",
     "exception": false,
     "start_time": "2025-10-07T13:24:59.070914",
     "status": "completed"
    },
    "tags": []
   },
   "outputs": [
    {
     "data": {
      "text/plain": [
       "a    False\n",
       "b     True\n",
       "c     True\n",
       "d     True\n",
       "e    False\n",
       "Name: Salary, dtype: bool"
      ]
     },
     "execution_count": 36,
     "metadata": {},
     "output_type": "execute_result"
    }
   ],
   "source": [
    "df['Salary'] > 53000"
   ]
  },
  {
   "cell_type": "markdown",
   "id": "6746c776",
   "metadata": {
    "papermill": {
     "duration": 0.010113,
     "end_time": "2025-10-07T13:24:59.108176",
     "exception": false,
     "start_time": "2025-10-07T13:24:59.098063",
     "status": "completed"
    },
    "tags": []
   },
   "source": [
    "Putting everything together, write a query to select the names of the people that earn more than 53000."
   ]
  },
  {
   "cell_type": "code",
   "execution_count": 37,
   "id": "24c07170",
   "metadata": {
    "execution": {
     "iopub.execute_input": "2025-10-07T13:24:59.129002Z",
     "iopub.status.busy": "2025-10-07T13:24:59.128787Z",
     "iopub.status.idle": "2025-10-07T13:24:59.135022Z",
     "shell.execute_reply": "2025-10-07T13:24:59.134522Z"
    },
    "papermill": {
     "duration": 0.017879,
     "end_time": "2025-10-07T13:24:59.135977",
     "exception": false,
     "start_time": "2025-10-07T13:24:59.118098",
     "status": "completed"
    },
    "scrolled": true,
    "tags": []
   },
   "outputs": [
    {
     "data": {
      "text/html": [
       "<div>\n",
       "<style scoped>\n",
       "    .dataframe tbody tr th:only-of-type {\n",
       "        vertical-align: middle;\n",
       "    }\n",
       "\n",
       "    .dataframe tbody tr th {\n",
       "        vertical-align: top;\n",
       "    }\n",
       "\n",
       "    .dataframe thead th {\n",
       "        text-align: right;\n",
       "    }\n",
       "</style>\n",
       "<table border=\"1\" class=\"dataframe\">\n",
       "  <thead>\n",
       "    <tr style=\"text-align: right;\">\n",
       "      <th></th>\n",
       "      <th>Name</th>\n",
       "      <th>Department</th>\n",
       "      <th>Salary</th>\n",
       "      <th>Years_at_Company</th>\n",
       "    </tr>\n",
       "  </thead>\n",
       "  <tbody>\n",
       "    <tr>\n",
       "      <th>a</th>\n",
       "      <td>Alice</td>\n",
       "      <td>HR</td>\n",
       "      <td>50000</td>\n",
       "      <td>2</td>\n",
       "    </tr>\n",
       "    <tr>\n",
       "      <th>b</th>\n",
       "      <td>Bob</td>\n",
       "      <td>IT</td>\n",
       "      <td>60000</td>\n",
       "      <td>5</td>\n",
       "    </tr>\n",
       "    <tr>\n",
       "      <th>c</th>\n",
       "      <td>Charlie</td>\n",
       "      <td>Finance</td>\n",
       "      <td>55000</td>\n",
       "      <td>3</td>\n",
       "    </tr>\n",
       "    <tr>\n",
       "      <th>d</th>\n",
       "      <td>Diana</td>\n",
       "      <td>IT</td>\n",
       "      <td>65000</td>\n",
       "      <td>7</td>\n",
       "    </tr>\n",
       "    <tr>\n",
       "      <th>e</th>\n",
       "      <td>Ethan</td>\n",
       "      <td>HR</td>\n",
       "      <td>52000</td>\n",
       "      <td>1</td>\n",
       "    </tr>\n",
       "  </tbody>\n",
       "</table>\n",
       "</div>"
      ],
      "text/plain": [
       "      Name Department  Salary  Years_at_Company\n",
       "a    Alice         HR   50000                 2\n",
       "b      Bob         IT   60000                 5\n",
       "c  Charlie    Finance   55000                 3\n",
       "d    Diana         IT   65000                 7\n",
       "e    Ethan         HR   52000                 1"
      ]
     },
     "execution_count": 37,
     "metadata": {},
     "output_type": "execute_result"
    }
   ],
   "source": [
    "# Write a query to select the names of the people that earn more than 53000.\n",
    "df"
   ]
  },
  {
   "cell_type": "markdown",
   "id": "e21c9b6a",
   "metadata": {
    "papermill": {
     "duration": 0.010006,
     "end_time": "2025-10-07T13:24:59.156702",
     "exception": false,
     "start_time": "2025-10-07T13:24:59.146696",
     "status": "completed"
    },
    "tags": []
   },
   "source": [
    "# [`pd.loc`](https://pandas.pydata.org/pandas-docs/stable/reference/api/pandas.DataFrame.loc.html) and [`pd.iloc`](https://pandas.pydata.org/pandas-docs/stable/reference/api/pandas.DataFrame.iloc.html) functions\n",
    "\n",
    "Pandas offers additional ways to select rows and columns:\n",
    "\n",
    "- [`pd.loc`](https://pandas.pydata.org/pandas-docs/stable/reference/api/pandas.DataFrame.loc.html): allows you to select rows and columns by the index value.\n",
    "- [`pd.iloc`](https://pandas.pydata.org/pandas-docs/stable/reference/api/pandas.DataFrame.iloc.html): allows you to select rows and columns by the integer position. It is actually deprecated.\n",
    "\n",
    "You can access the second row by either using the index value `'b'` (and function `.loc`) or by integer position 1 (and function `.iloc`) as in the following example."
   ]
  },
  {
   "cell_type": "code",
   "execution_count": 38,
   "id": "28657110",
   "metadata": {
    "execution": {
     "iopub.execute_input": "2025-10-07T13:24:59.178004Z",
     "iopub.status.busy": "2025-10-07T13:24:59.177492Z",
     "iopub.status.idle": "2025-10-07T13:24:59.182254Z",
     "shell.execute_reply": "2025-10-07T13:24:59.181595Z"
    },
    "papermill": {
     "duration": 0.016574,
     "end_time": "2025-10-07T13:24:59.183425",
     "exception": false,
     "start_time": "2025-10-07T13:24:59.166851",
     "status": "completed"
    },
    "tags": []
   },
   "outputs": [
    {
     "data": {
      "text/plain": [
       "Name                  Bob\n",
       "Department             IT\n",
       "Salary              60000\n",
       "Years_at_Company        5\n",
       "Name: b, dtype: object"
      ]
     },
     "execution_count": 38,
     "metadata": {},
     "output_type": "execute_result"
    }
   ],
   "source": [
    "df.loc['b']"
   ]
  },
  {
   "cell_type": "code",
   "execution_count": 39,
   "id": "1a232d13",
   "metadata": {
    "execution": {
     "iopub.execute_input": "2025-10-07T13:24:59.206573Z",
     "iopub.status.busy": "2025-10-07T13:24:59.205996Z",
     "iopub.status.idle": "2025-10-07T13:24:59.210783Z",
     "shell.execute_reply": "2025-10-07T13:24:59.210213Z"
    },
    "papermill": {
     "duration": 0.016707,
     "end_time": "2025-10-07T13:24:59.211794",
     "exception": false,
     "start_time": "2025-10-07T13:24:59.195087",
     "status": "completed"
    },
    "tags": []
   },
   "outputs": [
    {
     "data": {
      "text/plain": [
       "Name                  Bob\n",
       "Department             IT\n",
       "Salary              60000\n",
       "Years_at_Company        5\n",
       "Name: b, dtype: object"
      ]
     },
     "execution_count": 39,
     "metadata": {},
     "output_type": "execute_result"
    }
   ],
   "source": [
    "df.iloc[1]"
   ]
  },
  {
   "cell_type": "markdown",
   "id": "f1d10e84",
   "metadata": {
    "papermill": {
     "duration": 0.011277,
     "end_time": "2025-10-07T13:24:59.234030",
     "exception": false,
     "start_time": "2025-10-07T13:24:59.222753",
     "status": "completed"
    },
    "tags": []
   },
   "source": [
    "If you read more carefully the documentation of the two functions, you will see that, indeed, both [`pd.loc`](https://pandas.pydata.org/pandas-docs/stable/reference/api/pandas.DataFrame.loc.html) and [`pd.iloc`](https://pandas.pydata.org/pandas-docs/stable/reference/api/pandas.DataFrame.iloc.html) allow more flexibility like selecting intervals, arrays of booleans and so on."
   ]
  },
  {
   "cell_type": "markdown",
   "id": "2dd4edf4",
   "metadata": {
    "papermill": {
     "duration": 0.010232,
     "end_time": "2025-10-07T13:24:59.254434",
     "exception": false,
     "start_time": "2025-10-07T13:24:59.244202",
     "status": "completed"
    },
    "tags": []
   },
   "source": [
    "## Apply functions"
   ]
  },
  {
   "cell_type": "markdown",
   "id": "ef5438d6",
   "metadata": {
    "papermill": {
     "duration": 0.010266,
     "end_time": "2025-10-07T13:24:59.276074",
     "exception": false,
     "start_time": "2025-10-07T13:24:59.265808",
     "status": "completed"
    },
    "tags": []
   },
   "source": [
    "Anothe common feature of pandas, is applying functions element-wise to columns: see below for an example."
   ]
  },
  {
   "cell_type": "code",
   "execution_count": 40,
   "id": "51c666b7",
   "metadata": {
    "execution": {
     "iopub.execute_input": "2025-10-07T13:24:59.297292Z",
     "iopub.status.busy": "2025-10-07T13:24:59.297083Z",
     "iopub.status.idle": "2025-10-07T13:24:59.302933Z",
     "shell.execute_reply": "2025-10-07T13:24:59.302298Z"
    },
    "papermill": {
     "duration": 0.017714,
     "end_time": "2025-10-07T13:24:59.303950",
     "exception": false,
     "start_time": "2025-10-07T13:24:59.286236",
     "status": "completed"
    },
    "tags": []
   },
   "outputs": [
    {
     "data": {
      "text/plain": [
       "a    100000\n",
       "b    120000\n",
       "c    110000\n",
       "d    130000\n",
       "e    104000\n",
       "Name: Salary, dtype: int64"
      ]
     },
     "execution_count": 40,
     "metadata": {},
     "output_type": "execute_result"
    }
   ],
   "source": [
    "# Double every salary:\n",
    "df['Salary'].apply(lambda x: x * 2)"
   ]
  },
  {
   "cell_type": "markdown",
   "id": "a266d205",
   "metadata": {
    "papermill": {
     "duration": 0.01021,
     "end_time": "2025-10-07T13:24:59.324854",
     "exception": false,
     "start_time": "2025-10-07T13:24:59.314644",
     "status": "completed"
    },
    "tags": []
   },
   "source": [
    "What is [`lambda`](https://www.w3schools.com/python/python_lambda.asp) above?"
   ]
  },
  {
   "cell_type": "markdown",
   "id": "0a110581",
   "metadata": {
    "papermill": {
     "duration": 0.010304,
     "end_time": "2025-10-07T13:24:59.345627",
     "exception": false,
     "start_time": "2025-10-07T13:24:59.335323",
     "status": "completed"
    },
    "tags": []
   },
   "source": [
    "As a final exercise, write a query for the names of the employees with a salary above 51000 and below 56000 using the `.apply` operator."
   ]
  },
  {
   "cell_type": "code",
   "execution_count": 41,
   "id": "fdb50cad",
   "metadata": {
    "execution": {
     "iopub.execute_input": "2025-10-07T13:24:59.367759Z",
     "iopub.status.busy": "2025-10-07T13:24:59.367241Z",
     "iopub.status.idle": "2025-10-07T13:24:59.373642Z",
     "shell.execute_reply": "2025-10-07T13:24:59.372903Z"
    },
    "papermill": {
     "duration": 0.018626,
     "end_time": "2025-10-07T13:24:59.374793",
     "exception": false,
     "start_time": "2025-10-07T13:24:59.356167",
     "status": "completed"
    },
    "tags": []
   },
   "outputs": [
    {
     "data": {
      "text/html": [
       "<div>\n",
       "<style scoped>\n",
       "    .dataframe tbody tr th:only-of-type {\n",
       "        vertical-align: middle;\n",
       "    }\n",
       "\n",
       "    .dataframe tbody tr th {\n",
       "        vertical-align: top;\n",
       "    }\n",
       "\n",
       "    .dataframe thead th {\n",
       "        text-align: right;\n",
       "    }\n",
       "</style>\n",
       "<table border=\"1\" class=\"dataframe\">\n",
       "  <thead>\n",
       "    <tr style=\"text-align: right;\">\n",
       "      <th></th>\n",
       "      <th>Name</th>\n",
       "      <th>Department</th>\n",
       "      <th>Salary</th>\n",
       "      <th>Years_at_Company</th>\n",
       "    </tr>\n",
       "  </thead>\n",
       "  <tbody>\n",
       "    <tr>\n",
       "      <th>a</th>\n",
       "      <td>Alice</td>\n",
       "      <td>HR</td>\n",
       "      <td>50000</td>\n",
       "      <td>2</td>\n",
       "    </tr>\n",
       "    <tr>\n",
       "      <th>b</th>\n",
       "      <td>Bob</td>\n",
       "      <td>IT</td>\n",
       "      <td>60000</td>\n",
       "      <td>5</td>\n",
       "    </tr>\n",
       "    <tr>\n",
       "      <th>c</th>\n",
       "      <td>Charlie</td>\n",
       "      <td>Finance</td>\n",
       "      <td>55000</td>\n",
       "      <td>3</td>\n",
       "    </tr>\n",
       "    <tr>\n",
       "      <th>d</th>\n",
       "      <td>Diana</td>\n",
       "      <td>IT</td>\n",
       "      <td>65000</td>\n",
       "      <td>7</td>\n",
       "    </tr>\n",
       "    <tr>\n",
       "      <th>e</th>\n",
       "      <td>Ethan</td>\n",
       "      <td>HR</td>\n",
       "      <td>52000</td>\n",
       "      <td>1</td>\n",
       "    </tr>\n",
       "  </tbody>\n",
       "</table>\n",
       "</div>"
      ],
      "text/plain": [
       "      Name Department  Salary  Years_at_Company\n",
       "a    Alice         HR   50000                 2\n",
       "b      Bob         IT   60000                 5\n",
       "c  Charlie    Finance   55000                 3\n",
       "d    Diana         IT   65000                 7\n",
       "e    Ethan         HR   52000                 1"
      ]
     },
     "execution_count": 41,
     "metadata": {},
     "output_type": "execute_result"
    }
   ],
   "source": [
    "# Write a query to select the names of the people that earn a salary between 51000 and 56000. Use the .apply() operator.\n",
    "df\n"
   ]
  }
 ],
 "metadata": {
  "kaggle": {
   "accelerator": "nvidiaTeslaT4",
   "dataSources": [],
   "dockerImageVersionId": 31153,
   "isGpuEnabled": true,
   "isInternetEnabled": true,
   "language": "python",
   "sourceType": "notebook"
  },
  "kernelspec": {
   "display_name": "Python 3",
   "language": "python",
   "name": "python3"
  },
  "language_info": {
   "codemirror_mode": {
    "name": "ipython",
    "version": 3
   },
   "file_extension": ".py",
   "mimetype": "text/x-python",
   "name": "python",
   "nbconvert_exporter": "python",
   "pygments_lexer": "ipython3",
   "version": "3.11.13"
  },
  "papermill": {
   "default_parameters": {},
   "duration": 42.7375,
   "end_time": "2025-10-07T13:25:00.604896",
   "environment_variables": {},
   "exception": null,
   "input_path": "__notebook__.ipynb",
   "output_path": "__notebook__.ipynb",
   "parameters": {},
   "start_time": "2025-10-07T13:24:17.867396",
   "version": "2.6.0"
  }
 },
 "nbformat": 4,
 "nbformat_minor": 5
}
